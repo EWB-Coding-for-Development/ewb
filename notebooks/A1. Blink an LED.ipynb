{
 "metadata": {
  "celltoolbar": "Slideshow",
  "name": "",
  "signature": "sha256:e40b0c64fe016aedf199fedc170aab4dfbfcac83220a667c96e73063f00da755"
 },
 "nbformat": 3,
 "nbformat_minor": 0,
 "worksheets": [
  {
   "cells": [
    {
     "cell_type": "code",
     "collapsed": false,
     "input": [
      "import sys, os\n",
      "sys.path.insert(0, \"/home/pi/ewb/src/\")\n",
      "os.ENVIRON = \":\".join(sys.path)"
     ],
     "language": "python",
     "metadata": {
      "slideshow": {
       "slide_type": "skip"
      }
     },
     "outputs": [],
     "prompt_number": 1
    },
    {
     "cell_type": "markdown",
     "metadata": {
      "slideshow": {
       "slide_type": "slide"
      }
     },
     "source": [
      "![](static/ewb/ewb_logo.jpg)"
     ]
    },
    {
     "cell_type": "heading",
     "level": 1,
     "metadata": {
      "slideshow": {
       "slide_type": "-"
      }
     },
     "source": [
      "Part 1: Introduction to Python"
     ]
    },
    {
     "cell_type": "markdown",
     "metadata": {
      "slideshow": {
       "slide_type": "slide"
      }
     },
     "source": [
      "## Python Basics\n",
      "### Setting Variables"
     ]
    },
    {
     "cell_type": "code",
     "collapsed": false,
     "input": [
      "x = 1\n",
      "x"
     ],
     "language": "python",
     "metadata": {
      "slideshow": {
       "slide_type": "-"
      }
     },
     "outputs": [
      {
       "metadata": {},
       "output_type": "pyout",
       "prompt_number": 2,
       "text": [
        "1"
       ]
      }
     ],
     "prompt_number": 2
    },
    {
     "cell_type": "code",
     "collapsed": false,
     "input": [
      "x == 1"
     ],
     "language": "python",
     "metadata": {
      "slideshow": {
       "slide_type": "fragment"
      }
     },
     "outputs": [
      {
       "metadata": {},
       "output_type": "pyout",
       "prompt_number": 3,
       "text": [
        "True"
       ]
      }
     ],
     "prompt_number": 3
    },
    {
     "cell_type": "code",
     "collapsed": false,
     "input": [
      "x == 0"
     ],
     "language": "python",
     "metadata": {
      "slideshow": {
       "slide_type": "fragment"
      }
     },
     "outputs": [
      {
       "metadata": {},
       "output_type": "pyout",
       "prompt_number": 4,
       "text": [
        "False"
       ]
      }
     ],
     "prompt_number": 4
    },
    {
     "cell_type": "code",
     "collapsed": false,
     "input": [
      "text = \"Hello world\"\n",
      "print(text)"
     ],
     "language": "python",
     "metadata": {
      "slideshow": {
       "slide_type": "slide"
      }
     },
     "outputs": [
      {
       "output_type": "stream",
       "stream": "stdout",
       "text": [
        "Hello world\n"
       ]
      }
     ],
     "prompt_number": 5
    },
    {
     "cell_type": "code",
     "collapsed": false,
     "input": [
      "print(TEXT)"
     ],
     "language": "python",
     "metadata": {
      "slideshow": {
       "slide_type": "fragment"
      }
     },
     "outputs": [
      {
       "ename": "NameError",
       "evalue": "name 'TEXT' is not defined",
       "output_type": "pyerr",
       "traceback": [
        "\u001b[1;31m---------------------------------------------------------------------------\u001b[0m\n\u001b[1;31mNameError\u001b[0m                                 Traceback (most recent call last)",
        "\u001b[1;32m<ipython-input-6-855781c435ce>\u001b[0m in \u001b[0;36m<module>\u001b[1;34m()\u001b[0m\n\u001b[1;32m----> 1\u001b[1;33m \u001b[1;32mprint\u001b[0m\u001b[1;33m(\u001b[0m\u001b[0mTEXT\u001b[0m\u001b[1;33m)\u001b[0m\u001b[1;33m\u001b[0m\u001b[0m\n\u001b[0m",
        "\u001b[1;31mNameError\u001b[0m: name 'TEXT' is not defined"
       ]
      }
     ],
     "prompt_number": 6
    },
    {
     "cell_type": "heading",
     "level": 3,
     "metadata": {
      "slideshow": {
       "slide_type": "fragment"
      }
     },
     "source": [
      "Python is CaSE sENSitIVE!"
     ]
    },
    {
     "cell_type": "code",
     "collapsed": false,
     "input": [
      "my_name = \"James\"\n",
      "text = \"Hello {}\"\n",
      "print(text.format(my_name))"
     ],
     "language": "python",
     "metadata": {
      "slideshow": {
       "slide_type": "slide"
      }
     },
     "outputs": [
      {
       "output_type": "stream",
       "stream": "stdout",
       "text": [
        "Hello James\n"
       ]
      }
     ],
     "prompt_number": 7
    },
    {
     "cell_type": "markdown",
     "metadata": {
      "slideshow": {
       "slide_type": "slide"
      }
     },
     "source": [
      "## Testing Variables"
     ]
    },
    {
     "cell_type": "code",
     "collapsed": false,
     "input": [
      "something = True\n",
      "if something:\n",
      "    print(\"What thing?\")"
     ],
     "language": "python",
     "metadata": {
      "slideshow": {
       "slide_type": "-"
      }
     },
     "outputs": [
      {
       "output_type": "stream",
       "stream": "stdout",
       "text": [
        "What thing?\n"
       ]
      }
     ],
     "prompt_number": 8
    },
    {
     "cell_type": "code",
     "collapsed": false,
     "input": [
      "if x == 1:\n",
      "    pass\n",
      "elif 1 < x < 2:\n",
      "    pass\n",
      "else:\n",
      "    pass"
     ],
     "language": "python",
     "metadata": {
      "slideshow": {
       "slide_type": "fragment"
      }
     },
     "outputs": [],
     "prompt_number": 9
    },
    {
     "cell_type": "code",
     "collapsed": false,
     "input": [
      "this_is_fun = True\n",
      "if this_is_fun:\n",
      "    print(\"Woohoo!\")\n",
      "\n",
      "# None, False, '' (an empty string), 0 all evaluate to False"
     ],
     "language": "python",
     "metadata": {
      "slideshow": {
       "slide_type": "fragment"
      }
     },
     "outputs": [
      {
       "output_type": "stream",
       "stream": "stdout",
       "text": [
        "Woohoo!\n"
       ]
      }
     ],
     "prompt_number": 10
    },
    {
     "cell_type": "markdown",
     "metadata": {
      "slideshow": {
       "slide_type": "slide"
      }
     },
     "source": [
      "## Built in Functions\n",
      "\n",
      "Many of the most useful functions are already built in to python."
     ]
    },
    {
     "cell_type": "code",
     "collapsed": false,
     "input": [
      "range(10)"
     ],
     "language": "python",
     "metadata": {},
     "outputs": [
      {
       "metadata": {},
       "output_type": "pyout",
       "prompt_number": 11,
       "text": [
        "[0, 1, 2, 3, 4, 5, 6, 7, 8, 9]"
       ]
      }
     ],
     "prompt_number": 11
    },
    {
     "cell_type": "code",
     "collapsed": false,
     "input": [
      "sum(range(10))"
     ],
     "language": "python",
     "metadata": {
      "slideshow": {
       "slide_type": "fragment"
      }
     },
     "outputs": [
      {
       "metadata": {},
       "output_type": "pyout",
       "prompt_number": 12,
       "text": [
        "45"
       ]
      }
     ],
     "prompt_number": 12
    },
    {
     "cell_type": "code",
     "collapsed": false,
     "input": [
      "for i in reversed(range(10)):\n",
      "    print i"
     ],
     "language": "python",
     "metadata": {
      "slideshow": {
       "slide_type": "fragment"
      }
     },
     "outputs": [
      {
       "output_type": "stream",
       "stream": "stdout",
       "text": [
        "9\n",
        "8\n",
        "7\n",
        "6\n",
        "5\n",
        "4\n",
        "3\n",
        "2\n",
        "1\n",
        "0\n"
       ]
      }
     ],
     "prompt_number": 16
    },
    {
     "cell_type": "markdown",
     "metadata": {
      "slideshow": {
       "slide_type": "slide"
      }
     },
     "source": [
      "## Modules\n",
      "\n",
      "More useful functions can be imported when needed"
     ]
    },
    {
     "cell_type": "code",
     "collapsed": false,
     "input": [
      "import time  # this brings in the module \"time\"\n",
      "\n",
      "for i in range(5):\n",
      "    print(i)\n",
      "    time.sleep(1)"
     ],
     "language": "python",
     "metadata": {
      "slideshow": {
       "slide_type": "-"
      }
     },
     "outputs": [
      {
       "output_type": "stream",
       "stream": "stdout",
       "text": [
        "0\n",
        "1"
       ]
      },
      {
       "output_type": "stream",
       "stream": "stdout",
       "text": [
        "\n",
        "2"
       ]
      },
      {
       "output_type": "stream",
       "stream": "stdout",
       "text": [
        "\n",
        "3"
       ]
      },
      {
       "output_type": "stream",
       "stream": "stdout",
       "text": [
        "\n",
        "4"
       ]
      },
      {
       "output_type": "stream",
       "stream": "stdout",
       "text": [
        "\n"
       ]
      }
     ],
     "prompt_number": 17
    },
    {
     "cell_type": "markdown",
     "metadata": {
      "slideshow": {
       "slide_type": "slide"
      }
     },
     "source": [
      "## Now lets Blink an LED!\n",
      "\n",
      "First we need to bring in the *module* that allows us to use the \"General Purpose Input / Output\" pins on the Raspberry Pi, (the GPIOs).  "
     ]
    },
    {
     "cell_type": "code",
     "collapsed": false,
     "input": [
      "import RPi.GPIO as gpio  # This brings in the Module RPi.GPIO, but calls it gpio for ease of use\n",
      "\n",
      "gpio.setmode(gpio.BOARD) # This sets the numbering scheme for the pins"
     ],
     "language": "python",
     "metadata": {
      "slideshow": {
       "slide_type": "-"
      }
     },
     "outputs": [],
     "prompt_number": 18
    },
    {
     "cell_type": "code",
     "collapsed": false,
     "input": [
      "gpio.setup(12, gpio.OUT) # This sets pin 12 to be an OUTPUT"
     ],
     "language": "python",
     "metadata": {
      "slideshow": {
       "slide_type": "fragment"
      }
     },
     "outputs": [],
     "prompt_number": 20
    },
    {
     "cell_type": "code",
     "collapsed": false,
     "input": [
      "gpio.output(12, True)"
     ],
     "language": "python",
     "metadata": {
      "slideshow": {
       "slide_type": "fragment"
      }
     },
     "outputs": [],
     "prompt_number": 21
    },
    {
     "cell_type": "markdown",
     "metadata": {
      "slideshow": {
       "slide_type": "subslide"
      }
     },
     "source": [
      "## Wow. You've turned the LED on. That's great! Now to turn it off..."
     ]
    },
    {
     "cell_type": "code",
     "collapsed": false,
     "input": [
      "led_pin = 12\n",
      "gpio.output(led_pin, False)"
     ],
     "language": "python",
     "metadata": {
      "slideshow": {
       "slide_type": "fragment"
      }
     },
     "outputs": [],
     "prompt_number": 22
    },
    {
     "cell_type": "heading",
     "level": 2,
     "metadata": {
      "slideshow": {
       "slide_type": "subslide"
      }
     },
     "source": [
      "First on, then off! Now try it 10 times really fast!"
     ]
    },
    {
     "cell_type": "code",
     "collapsed": false,
     "input": [
      "from time import sleep\n",
      "\n",
      "for i in range(10):\n",
      "    gpio.output(led_pin, True)\n",
      "    sleep(1)\n",
      "    gpio.output(led_pin, False)\n",
      "    sleep(1)"
     ],
     "language": "python",
     "metadata": {
      "slideshow": {
       "slide_type": "fragment"
      }
     },
     "outputs": [],
     "prompt_number": 24
    },
    {
     "cell_type": "markdown",
     "metadata": {
      "slideshow": {
       "slide_type": "slide"
      }
     },
     "source": [
      "## Reusing code: functions\n",
      "\n",
      "Functions are a way to reuse code.\n",
      "* Arguments\n",
      "* Keyword arguments"
     ]
    },
    {
     "cell_type": "code",
     "collapsed": false,
     "input": [
      "\"fun\" in \"function\""
     ],
     "language": "python",
     "metadata": {
      "slideshow": {
       "slide_type": "-"
      }
     },
     "outputs": [
      {
       "metadata": {},
       "output_type": "pyout",
       "prompt_number": 25,
       "text": [
        "True"
       ]
      }
     ],
     "prompt_number": 25
    },
    {
     "cell_type": "code",
     "collapsed": false,
     "input": [
      "def blink_once(pin, duration):\n",
      "    gpio.output(pin, True)\n",
      "    sleep(duration)\n",
      "    gpio.output(pin, False)\n",
      "    sleep(duration)\n",
      "\n",
      "blink_once(12, .1)"
     ],
     "language": "python",
     "metadata": {
      "slideshow": {
       "slide_type": "fragment"
      }
     },
     "outputs": [],
     "prompt_number": 28
    },
    {
     "cell_type": "code",
     "collapsed": false,
     "input": [
      "for i in range(10):\n",
      "    blink_once(12, .1)"
     ],
     "language": "python",
     "metadata": {
      "slideshow": {
       "slide_type": "fragment"
      }
     },
     "outputs": [],
     "prompt_number": 29
    },
    {
     "cell_type": "markdown",
     "metadata": {
      "slideshow": {
       "slide_type": "fragment"
      }
     },
     "source": [
      "### Why not make that into a new function?"
     ]
    },
    {
     "cell_type": "code",
     "collapsed": false,
     "input": [
      "def blink(pin, num_times, duration):\n",
      "    for i in range(num_times):\n",
      "        blink_once(pin, duration)\n",
      "\n",
      "blink(12, 50, .05)"
     ],
     "language": "python",
     "metadata": {
      "slideshow": {
       "slide_type": "fragment"
      }
     },
     "outputs": [],
     "prompt_number": 37
    },
    {
     "cell_type": "markdown",
     "metadata": {
      "slideshow": {
       "slide_type": "slide"
      }
     },
     "source": [
      "### See how much shorter the function is compared to typing it out each time"
     ]
    },
    {
     "cell_type": "code",
     "collapsed": false,
     "input": [
      "blink(12, 50, .05)"
     ],
     "language": "python",
     "metadata": {},
     "outputs": [],
     "prompt_number": 31
    },
    {
     "cell_type": "code",
     "collapsed": false,
     "input": [
      "gpio.output(12, True)\n",
      "sleep(0.05)\n",
      "gpio.output(12, False)\n",
      "sleep(0.05)\n",
      "gpio.output(12, True)\n",
      "sleep(0.05)\n",
      "gpio.output(12, False)\n",
      "sleep(0.05)\n",
      "gpio.output(12, True)\n",
      "sleep(0.05)\n",
      "gpio.output(12, False)\n",
      "sleep(0.05)\n",
      "gpio.output(12, True)\n",
      "sleep(0.05)\n",
      "gpio.output(12, False)\n",
      "sleep(0.05)\n",
      "# ............ continued 46 more times"
     ],
     "language": "python",
     "metadata": {
      "slideshow": {
       "slide_type": "-"
      }
     },
     "outputs": [],
     "prompt_number": 32
    },
    {
     "cell_type": "markdown",
     "metadata": {
      "slideshow": {
       "slide_type": "-"
      }
     },
     "source": [
      "What a time saver!"
     ]
    },
    {
     "cell_type": "heading",
     "level": 2,
     "metadata": {
      "slideshow": {
       "slide_type": "slide"
      }
     },
     "source": [
      "Coding Challenge: Can you write a function that blinks SOS in Morse Code? ... --- ..."
     ]
    },
    {
     "cell_type": "code",
     "collapsed": false,
     "input": [
      "def SOS(t=0.2, pin=12):\n",
      "    blink(pin, 3, t)\n",
      "    sleep(t)\n",
      "    blink(pin, 3, 3 * t)\n",
      "    sleep(t)\n",
      "    blink(pin, 3, t)\n",
      "    sleep(t)\n",
      "\n",
      "SOS()"
     ],
     "language": "python",
     "metadata": {
      "slideshow": {
       "slide_type": "subslide"
      }
     },
     "outputs": [],
     "prompt_number": 49
    },
    {
     "cell_type": "markdown",
     "metadata": {
      "slideshow": {
       "slide_type": "slide"
      }
     },
     "source": [
      "# Part 2: Pushing my buttons"
     ]
    },
    {
     "cell_type": "markdown",
     "metadata": {
      "slideshow": {
       "slide_type": "-"
      }
     },
     "source": [
      "First connect the pushbutton to pin 16 according to this wiring diagram:"
     ]
    },
    {
     "cell_type": "heading",
     "level": 2,
     "metadata": {
      "slideshow": {
       "slide_type": "slide"
      }
     },
     "source": [
      "Pullups\n",
      "The Raspberry Pi has internal pullups."
     ]
    },
    {
     "cell_type": "markdown",
     "metadata": {
      "slideshow": {
       "slide_type": "-"
      }
     },
     "source": [
      "![](static/A1/Pullup.svg)\n"
     ]
    },
    {
     "cell_type": "markdown",
     "metadata": {
      "slideshow": {
       "slide_type": "slide"
      }
     },
     "source": [
      "## Reading a button press\n",
      "With the pullup enabled, the input will read 1 (representing HIGH), unless the button is being pressed: then it will read 0 (representing LOW)."
     ]
    },
    {
     "cell_type": "code",
     "collapsed": false,
     "input": [
      "button_pin = 16\n",
      "gpio.setup(button_pin, gpio.IN, gpio.PUD_UP)\n",
      "gpio.input(button_pin)"
     ],
     "language": "python",
     "metadata": {
      "slideshow": {
       "slide_type": "-"
      }
     },
     "outputs": [
      {
       "metadata": {},
       "output_type": "pyout",
       "prompt_number": 52,
       "text": [
        "1"
       ]
      }
     ],
     "prompt_number": 52
    },
    {
     "cell_type": "code",
     "collapsed": false,
     "input": [
      "if gpio.input(button_pin):\n",
      "    print(\"Try again\")\n",
      "else:\n",
      "    print(\"Beep boop!\")"
     ],
     "language": "python",
     "metadata": {
      "slideshow": {
       "slide_type": "-"
      }
     },
     "outputs": [
      {
       "output_type": "stream",
       "stream": "stdout",
       "text": [
        "Try again\n"
       ]
      }
     ],
     "prompt_number": 34
    },
    {
     "cell_type": "markdown",
     "metadata": {
      "slideshow": {
       "slide_type": "slide"
      }
     },
     "source": [
      "## Wait for it...\n",
      "A _while_ loop repeatedly checks condition, and executes the indented code block unless the conditon fails.\n",
      "\n",
      "This is useful for waiting for user input:"
     ]
    },
    {
     "cell_type": "code",
     "collapsed": false,
     "input": [
      "while gpio.input(button_pin):\n",
      "    pass # do nothing. Lazy python...\n",
      "print(\"Who pressed that?\")"
     ],
     "language": "python",
     "metadata": {
      "slideshow": {
       "slide_type": "-"
      }
     },
     "outputs": [
      {
       "output_type": "stream",
       "stream": "stdout",
       "text": [
        "Who pressed that?\n"
       ]
      }
     ],
     "prompt_number": 53
    },
    {
     "cell_type": "markdown",
     "metadata": {
      "slideshow": {
       "slide_type": "fragment"
      }
     },
     "source": [
      "### A while loop can run forever! Here's how to stop it:\n",
      "\n",
      "In the Terminal, pressing &lt;Control&gt;&lt;c&gt; causes a _KeyboardInterrupt_.  \n",
      "In the IPython Notebook the _KeyboardInterrupt_ is sent by pressing the Stop Button. &nbsp;<i class=\"icon-stop\"></i>"
     ]
    },
    {
     "cell_type": "code",
     "collapsed": false,
     "input": [
      "while True:\n",
      "    if not gpio.input(button_pin):\n",
      "        print(\"Please do not push this button again!\")\n",
      "        sleep(1)"
     ],
     "language": "python",
     "metadata": {
      "slideshow": {
       "slide_type": "slide"
      }
     },
     "outputs": [
      {
       "output_type": "stream",
       "stream": "stdout",
       "text": [
        "Please do not push this button again!\n",
        "Please do not push this button again!"
       ]
      },
      {
       "output_type": "stream",
       "stream": "stdout",
       "text": [
        "\n"
       ]
      },
      {
       "ename": "KeyboardInterrupt",
       "evalue": "",
       "output_type": "pyerr",
       "traceback": [
        "\u001b[1;31m---------------------------------------------------------------------------\u001b[0m\n\u001b[1;31mKeyboardInterrupt\u001b[0m                         Traceback (most recent call last)",
        "\u001b[1;32m<ipython-input-57-a0bb17c62df9>\u001b[0m in \u001b[0;36m<module>\u001b[1;34m()\u001b[0m\n\u001b[0;32m      1\u001b[0m \u001b[1;32mwhile\u001b[0m \u001b[0mTrue\u001b[0m\u001b[1;33m:\u001b[0m\u001b[1;33m\u001b[0m\u001b[0m\n\u001b[1;32m----> 2\u001b[1;33m     \u001b[1;32mif\u001b[0m \u001b[1;32mnot\u001b[0m \u001b[0mgpio\u001b[0m\u001b[1;33m.\u001b[0m\u001b[0minput\u001b[0m\u001b[1;33m(\u001b[0m\u001b[0mbutton_pin\u001b[0m\u001b[1;33m)\u001b[0m\u001b[1;33m:\u001b[0m\u001b[1;33m\u001b[0m\u001b[0m\n\u001b[0m\u001b[0;32m      3\u001b[0m         \u001b[1;32mprint\u001b[0m\u001b[1;33m(\u001b[0m\u001b[1;34m\"Please do not push this button again!\"\u001b[0m\u001b[1;33m)\u001b[0m\u001b[1;33m\u001b[0m\u001b[0m\n\u001b[0;32m      4\u001b[0m         \u001b[0msleep\u001b[0m\u001b[1;33m(\u001b[0m\u001b[1;36m1\u001b[0m\u001b[1;33m)\u001b[0m\u001b[1;33m\u001b[0m\u001b[0m\n",
        "\u001b[1;31mKeyboardInterrupt\u001b[0m: "
       ]
      }
     ],
     "prompt_number": 57
    },
    {
     "cell_type": "markdown",
     "metadata": {},
     "source": [
      "## Breaking out of a _while_ statement\n",
      "\n",
      "You can exit a while statement within your code with _break_"
     ]
    },
    {
     "cell_type": "code",
     "collapsed": false,
     "input": [
      "last_state = 1\n",
      "count = 0\n",
      "while True:\n",
      "    state = gpio.input(button_pin)\n",
      "    if state != last_state:\n",
      "        if state == 0:\n",
      "            count += 1\n",
      "            print(\"Button Pushed {} times\".format(count))\n",
      "            if count == 5:\n",
      "                print(\"That's 5 times too many!\")\n",
      "                break     # This leaves the while statement\n",
      "        last_state = state"
     ],
     "language": "python",
     "metadata": {
      "slideshow": {
       "slide_type": "-"
      }
     },
     "outputs": [
      {
       "output_type": "stream",
       "stream": "stdout",
       "text": [
        "Button Pushed 1 times\n",
        "Button Pushed 2 times"
       ]
      },
      {
       "output_type": "stream",
       "stream": "stdout",
       "text": [
        "\n",
        "Button Pushed 3 times"
       ]
      },
      {
       "output_type": "stream",
       "stream": "stdout",
       "text": [
        "\n",
        "Button Pushed 4 times"
       ]
      },
      {
       "output_type": "stream",
       "stream": "stdout",
       "text": [
        "\n",
        "Button Pushed 5 times"
       ]
      },
      {
       "output_type": "stream",
       "stream": "stdout",
       "text": [
        "\n",
        "That's 5 times too many!\n"
       ]
      }
     ],
     "prompt_number": 58
    },
    {
     "cell_type": "markdown",
     "metadata": {
      "slideshow": {
       "slide_type": "slide"
      }
     },
     "source": [
      "## Catching Exceptions\n",
      "\n",
      "_KeyboardInterrupt_ is an Exception.  \n",
      "It's possible to 'catch' Exceptions, and do something useful."
     ]
    },
    {
     "cell_type": "code",
     "collapsed": false,
     "input": [
      "last_state = 1\n",
      "\n",
      "try:\n",
      "    while True:\n",
      "        state = gpio.input(button_pin)\n",
      "        if state != last_state: # != means 'does not equal'\n",
      "            if state == 0:      # == means 'equals'\n",
      "                print(\"Button Pushed\")\n",
      "            else:\n",
      "                print(\"Button Released\")\n",
      "            last_state = state   # = is an assignment. You will get an error if you confuse == with =\n",
      "except KeyboardInterrupt as e:\n",
      "    print(\"Stopped\")"
     ],
     "language": "python",
     "metadata": {
      "slideshow": {
       "slide_type": "-"
      }
     },
     "outputs": [
      {
       "output_type": "stream",
       "stream": "stdout",
       "text": [
        "Button Pushed\n",
        "Button Released"
       ]
      },
      {
       "output_type": "stream",
       "stream": "stdout",
       "text": [
        "\n",
        "Button Pushed"
       ]
      },
      {
       "output_type": "stream",
       "stream": "stdout",
       "text": [
        "\n",
        "Button Released"
       ]
      },
      {
       "output_type": "stream",
       "stream": "stdout",
       "text": [
        "\n",
        "Button Pushed"
       ]
      },
      {
       "output_type": "stream",
       "stream": "stdout",
       "text": [
        "\n",
        "Button Released"
       ]
      },
      {
       "output_type": "stream",
       "stream": "stdout",
       "text": [
        "\n",
        "Stopped"
       ]
      },
      {
       "output_type": "stream",
       "stream": "stdout",
       "text": [
        "\n"
       ]
      }
     ],
     "prompt_number": 59
    },
    {
     "cell_type": "heading",
     "level": 1,
     "metadata": {
      "slideshow": {
       "slide_type": "slide"
      }
     },
     "source": [
      "Part 3: Advanced Blinking - Morse Code"
     ]
    },
    {
     "cell_type": "markdown",
     "metadata": {
      "slideshow": {
       "slide_type": "slide"
      }
     },
     "source": [
      "I only know a little bit of morse code. For example, I know that S is ... O is --- E is . and T is -  \n",
      "How could I blink the LED to display a meaningful message?"
     ]
    },
    {
     "cell_type": "code",
     "collapsed": false,
     "input": [
      "morse_code = {'s': '...',\n",
      "              'o': '---',\n",
      "              'e': '.',\n",
      "              't': '-',\n",
      "             }"
     ],
     "language": "python",
     "metadata": {
      "slideshow": {
       "slide_type": "fragment"
      }
     },
     "outputs": [],
     "prompt_number": 60
    },
    {
     "cell_type": "code",
     "collapsed": false,
     "input": [
      "def morse(text):\n",
      "    for char in text:\n",
      "        print(morse_code[char])\n",
      "        \n",
      "morse(\"toes\")"
     ],
     "language": "python",
     "metadata": {
      "slideshow": {
       "slide_type": "fragment"
      }
     },
     "outputs": [
      {
       "output_type": "stream",
       "stream": "stdout",
       "text": [
        "-\n",
        "---\n",
        ".\n",
        "...\n"
       ]
      }
     ],
     "prompt_number": 61
    },
    {
     "cell_type": "code",
     "collapsed": false,
     "input": [
      "def morse(text):\n",
      "    return [morse_code[char] for char in text]\n",
      "\n",
      "morse(\"toes\")"
     ],
     "language": "python",
     "metadata": {
      "slideshow": {
       "slide_type": "slide"
      }
     },
     "outputs": [
      {
       "metadata": {},
       "output_type": "pyout",
       "prompt_number": 62,
       "text": [
        "['-', '---', '.', '...']"
       ]
      }
     ],
     "prompt_number": 62
    },
    {
     "cell_type": "code",
     "collapsed": false,
     "input": [
      "\" \".join(morse(\"toes\"))"
     ],
     "language": "python",
     "metadata": {
      "slideshow": {
       "slide_type": "fragment"
      }
     },
     "outputs": [
      {
       "metadata": {},
       "output_type": "pyout",
       "prompt_number": 63,
       "text": [
        "'- --- . ...'"
       ]
      }
     ],
     "prompt_number": 63
    },
    {
     "cell_type": "code",
     "collapsed": false,
     "input": [
      "\" \".join(morse(\"help\"))"
     ],
     "language": "python",
     "metadata": {
      "slideshow": {
       "slide_type": "fragment"
      }
     },
     "outputs": [
      {
       "ename": "KeyError",
       "evalue": "'h'",
       "output_type": "pyerr",
       "traceback": [
        "\u001b[1;31m---------------------------------------------------------------------------\u001b[0m\n\u001b[1;31mKeyError\u001b[0m                                  Traceback (most recent call last)",
        "\u001b[1;32m<ipython-input-64-e56ac1de16b1>\u001b[0m in \u001b[0;36m<module>\u001b[1;34m()\u001b[0m\n\u001b[1;32m----> 1\u001b[1;33m \u001b[1;34m\" \"\u001b[0m\u001b[1;33m.\u001b[0m\u001b[0mjoin\u001b[0m\u001b[1;33m(\u001b[0m\u001b[0mmorse\u001b[0m\u001b[1;33m(\u001b[0m\u001b[1;34m\"help\"\u001b[0m\u001b[1;33m)\u001b[0m\u001b[1;33m)\u001b[0m\u001b[1;33m\u001b[0m\u001b[0m\n\u001b[0m",
        "\u001b[1;32m<ipython-input-62-af1f9d4b26bb>\u001b[0m in \u001b[0;36mmorse\u001b[1;34m(text)\u001b[0m\n\u001b[0;32m      1\u001b[0m \u001b[1;32mdef\u001b[0m \u001b[0mmorse\u001b[0m\u001b[1;33m(\u001b[0m\u001b[0mtext\u001b[0m\u001b[1;33m)\u001b[0m\u001b[1;33m:\u001b[0m\u001b[1;33m\u001b[0m\u001b[0m\n\u001b[1;32m----> 2\u001b[1;33m     \u001b[1;32mreturn\u001b[0m \u001b[1;33m[\u001b[0m\u001b[0mmorse_code\u001b[0m\u001b[1;33m[\u001b[0m\u001b[0mchar\u001b[0m\u001b[1;33m]\u001b[0m \u001b[1;32mfor\u001b[0m \u001b[0mchar\u001b[0m \u001b[1;32min\u001b[0m \u001b[0mtext\u001b[0m\u001b[1;33m]\u001b[0m\u001b[1;33m\u001b[0m\u001b[0m\n\u001b[0m\u001b[0;32m      3\u001b[0m \u001b[1;33m\u001b[0m\u001b[0m\n\u001b[0;32m      4\u001b[0m \u001b[0mmorse\u001b[0m\u001b[1;33m(\u001b[0m\u001b[1;34m\"toes\"\u001b[0m\u001b[1;33m)\u001b[0m\u001b[1;33m\u001b[0m\u001b[0m\n",
        "\u001b[1;31mKeyError\u001b[0m: 'h'"
       ]
      }
     ],
     "prompt_number": 64
    },
    {
     "cell_type": "markdown",
     "metadata": {},
     "source": [
      "_KeyError_ means that the dictionary doesn't have a matching key."
     ]
    },
    {
     "cell_type": "markdown",
     "metadata": {
      "slideshow": {
       "slide_type": "slide"
      }
     },
     "source": [
      "## Does anyone know morse code?"
     ]
    },
    {
     "cell_type": "markdown",
     "metadata": {
      "slideshow": {
       "slide_type": "slide"
      }
     },
     "source": [
      "## Here's one I prepared earlier"
     ]
    },
    {
     "cell_type": "code",
     "collapsed": false,
     "input": [
      "import ewb\n",
      "ewb.morse"
     ],
     "language": "python",
     "metadata": {
      "slideshow": {
       "slide_type": "fragment"
      }
     },
     "outputs": [
      {
       "metadata": {},
       "output_type": "pyout",
       "prompt_number": 65,
       "text": [
        "{'!': '-.-.--',\n",
        " '\"': '.-..-.',\n",
        " '$': '...-..-',\n",
        " '&': '.-...',\n",
        " \"'\": '.----.',\n",
        " '(': '-.--.',\n",
        " ')': '-.--.-',\n",
        " '+': '.-.-.',\n",
        " ',': '--..--',\n",
        " '-': '-....-',\n",
        " '.': '.-.-.-',\n",
        " '/': '-..-.',\n",
        " '0': '-----',\n",
        " '1': '.----',\n",
        " '2': '..---',\n",
        " '3': '...--',\n",
        " '4': '....-',\n",
        " '5': '.....',\n",
        " '6': '-....',\n",
        " '7': '--...',\n",
        " '8': '---..',\n",
        " '9': '----.',\n",
        " ':': '---...',\n",
        " ';': '-.-.-.',\n",
        " '=': '-...-',\n",
        " '?': '..--..',\n",
        " '@': '.--.-.',\n",
        " 'A': '.-',\n",
        " 'B': '-...',\n",
        " 'C': '-.-.',\n",
        " 'D': '-..',\n",
        " 'E': '.',\n",
        " 'F': '..-.',\n",
        " 'G': '--.',\n",
        " 'H': '....',\n",
        " 'I': '..',\n",
        " 'J': '.---',\n",
        " 'K': '-.-',\n",
        " 'L': '.-..',\n",
        " 'M': '--',\n",
        " 'N': '-.',\n",
        " 'O': '---',\n",
        " 'P': '.--.',\n",
        " 'Q': '--.-',\n",
        " 'R': '.-.',\n",
        " 'S': '...',\n",
        " 'T': '-',\n",
        " 'U': '..-',\n",
        " 'V': '...-',\n",
        " 'W': '.--',\n",
        " 'X': '-..-',\n",
        " 'Y': '-.--',\n",
        " 'Z': '--..',\n",
        " '_': '..--.-'}"
       ]
      }
     ],
     "prompt_number": 65
    },
    {
     "cell_type": "code",
     "collapsed": false,
     "input": [
      "morse_code = ewb.morse\n",
      "\n",
      "print(\" \".join(morse(\"HI PYTHON\")))"
     ],
     "language": "python",
     "metadata": {
      "slideshow": {
       "slide_type": "slide"
      }
     },
     "outputs": [
      {
       "output_type": "stream",
       "stream": "stdout",
       "text": [
        ".... ..   .--. -.-- - .... --- -.\n"
       ]
      }
     ],
     "prompt_number": 70
    },
    {
     "cell_type": "code",
     "collapsed": false,
     "input": [
      "print(\" \".join(morse(\"Hello Python\")))"
     ],
     "language": "python",
     "metadata": {
      "slideshow": {
       "slide_type": "fragment"
      }
     },
     "outputs": [
      {
       "ename": "KeyError",
       "evalue": "'e'",
       "output_type": "pyerr",
       "traceback": [
        "\u001b[1;31m---------------------------------------------------------------------------\u001b[0m\n\u001b[1;31mKeyError\u001b[0m                                  Traceback (most recent call last)",
        "\u001b[1;32m<ipython-input-74-399063dd8460>\u001b[0m in \u001b[0;36m<module>\u001b[1;34m()\u001b[0m\n\u001b[1;32m----> 1\u001b[1;33m \u001b[1;32mprint\u001b[0m\u001b[1;33m(\u001b[0m\u001b[1;34m\" \"\u001b[0m\u001b[1;33m.\u001b[0m\u001b[0mjoin\u001b[0m\u001b[1;33m(\u001b[0m\u001b[0mmorse\u001b[0m\u001b[1;33m(\u001b[0m\u001b[1;34m\"Hello Python\"\u001b[0m\u001b[1;33m)\u001b[0m\u001b[1;33m)\u001b[0m\u001b[1;33m)\u001b[0m\u001b[1;33m\u001b[0m\u001b[0m\n\u001b[0m",
        "\u001b[1;32m<ipython-input-62-af1f9d4b26bb>\u001b[0m in \u001b[0;36mmorse\u001b[1;34m(text)\u001b[0m\n\u001b[0;32m      1\u001b[0m \u001b[1;32mdef\u001b[0m \u001b[0mmorse\u001b[0m\u001b[1;33m(\u001b[0m\u001b[0mtext\u001b[0m\u001b[1;33m)\u001b[0m\u001b[1;33m:\u001b[0m\u001b[1;33m\u001b[0m\u001b[0m\n\u001b[1;32m----> 2\u001b[1;33m     \u001b[1;32mreturn\u001b[0m \u001b[1;33m[\u001b[0m\u001b[0mmorse_code\u001b[0m\u001b[1;33m[\u001b[0m\u001b[0mchar\u001b[0m\u001b[1;33m]\u001b[0m \u001b[1;32mfor\u001b[0m \u001b[0mchar\u001b[0m \u001b[1;32min\u001b[0m \u001b[0mtext\u001b[0m\u001b[1;33m]\u001b[0m\u001b[1;33m\u001b[0m\u001b[0m\n\u001b[0m\u001b[0;32m      3\u001b[0m \u001b[1;33m\u001b[0m\u001b[0m\n\u001b[0;32m      4\u001b[0m \u001b[0mmorse\u001b[0m\u001b[1;33m(\u001b[0m\u001b[1;34m\"toes\"\u001b[0m\u001b[1;33m)\u001b[0m\u001b[1;33m\u001b[0m\u001b[0m\n",
        "\u001b[1;31mKeyError\u001b[0m: 'e'"
       ]
      }
     ],
     "prompt_number": 74
    },
    {
     "cell_type": "markdown",
     "metadata": {
      "slideshow": {
       "slide_type": "fragment"
      }
     },
     "source": [
      "We're getting _KeyError_ because the dictionary only has uppercase letters, yet we're looking for 'e'.\n",
      "\n",
      "Strings have a method called _upper_ that converts the string to uppercase."
     ]
    },
    {
     "cell_type": "code",
     "collapsed": false,
     "input": [
      "def morse(text):\n",
      "    return \" \".join([morse_code[char.upper()] for char in text])\n",
      "\n",
      "print(morse(\"Hello There\"))"
     ],
     "language": "python",
     "metadata": {
      "slideshow": {
       "slide_type": "fragment"
      }
     },
     "outputs": [
      {
       "output_type": "stream",
       "stream": "stdout",
       "text": [
        ".... . .-.. .-.. ---   - .... . .-. .\n"
       ]
      }
     ],
     "prompt_number": 75
    },
    {
     "cell_type": "heading",
     "level": 2,
     "metadata": {
      "slideshow": {
       "slide_type": "slide"
      }
     },
     "source": [
      "Coding Challenge: Write a function that blinks the message in Morse Code"
     ]
    },
    {
     "cell_type": "code",
     "collapsed": false,
     "input": [
      "def blink_morse(morse_text, char_time=0.2):\n",
      "    for mchar in morse_text:\n",
      "        if mchar == \".\":\n",
      "            blink_once(led_pin, char_time)\n",
      "        if mchar == \"-\":\n",
      "            blink_once(led_pin, 3 * char_time)\n",
      "        if mchar == \" \":\n",
      "            sleep(char_time)\n",
      "\n",
      "blink_morse(morse(\"Hello There\"))"
     ],
     "language": "python",
     "metadata": {
      "slideshow": {
       "slide_type": "fragment"
      }
     },
     "outputs": [],
     "prompt_number": 76
    },
    {
     "cell_type": "markdown",
     "metadata": {
      "slideshow": {
       "slide_type": "subslide"
      }
     },
     "source": [
      "## Advanced Coding Challenge: Write a function that converts Morse to Text"
     ]
    },
    {
     "cell_type": "code",
     "collapsed": false,
     "input": [
      "inv_morse_code = {mc:c for c, mc in morse_code.items()}\n",
      "\n",
      "def morse_to_text(morse_text):\n",
      "    words = []\n",
      "    for morse_word in morse_text.split(\"   \"):\n",
      "        words.append(\"\".join([inv_morse_code[morse_char] for morse_char in morse_word.split(\" \")]))\n",
      "    return \" \".join(words)\n",
      "\n",
      "morse_to_text('.... . .-.. .-.. ---   - .... . .-. .')"
     ],
     "language": "python",
     "metadata": {
      "slideshow": {
       "slide_type": "fragment"
      }
     },
     "outputs": [
      {
       "metadata": {},
       "output_type": "pyout",
       "prompt_number": 77,
       "text": [
        "'HELLO THERE'"
       ]
      }
     ],
     "prompt_number": 77
    }
   ],
   "metadata": {}
  }
 ]
}