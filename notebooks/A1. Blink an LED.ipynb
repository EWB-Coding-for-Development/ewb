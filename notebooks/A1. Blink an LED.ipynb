{
 "metadata": {
  "celltoolbar": "Slideshow",
  "name": "",
  "signature": "sha256:fe44a93f08729305f583afdb2ada81f95ea329b500c13805b1a57ef3e172f2e3"
 },
 "nbformat": 3,
 "nbformat_minor": 0,
 "worksheets": [
  {
   "cells": [
    {
     "cell_type": "markdown",
     "metadata": {
      "slideshow": {
       "slide_type": "slide"
      }
     },
     "source": [
      "![](static/ewb/ewb_logo.jpg)"
     ]
    },
    {
     "cell_type": "heading",
     "level": 1,
     "metadata": {
      "slideshow": {
       "slide_type": "-"
      }
     },
     "source": [
      "Part 1: Introduction to Python"
     ]
    },
    {
     "cell_type": "markdown",
     "metadata": {
      "slideshow": {
       "slide_type": "slide"
      }
     },
     "source": [
      "## Python Basics"
     ]
    },
    {
     "cell_type": "markdown",
     "metadata": {
      "slideshow": {
       "slide_type": "-"
      }
     },
     "source": [
      "Some things to keep in mind"
     ]
    },
    {
     "cell_type": "heading",
     "level": 3,
     "metadata": {
      "slideshow": {
       "slide_type": "fragment"
      }
     },
     "source": [
      "Python is CaSE sENSitIVE!"
     ]
    },
    {
     "cell_type": "code",
     "collapsed": false,
     "input": [
      "# Everything after a hash is a comment"
     ],
     "language": "python",
     "metadata": {
      "slideshow": {
       "slide_type": "fragment"
      }
     },
     "outputs": []
    },
    {
     "cell_type": "heading",
     "level": 3,
     "metadata": {
      "slideshow": {
       "slide_type": "fragment"
      }
     },
     "source": [
      "Indentation is important"
     ]
    },
    {
     "cell_type": "markdown",
     "metadata": {
      "slideshow": {
       "slide_type": "notes"
      }
     },
     "source": [
      "Tabs or spaces at the beginning of a line define blocks of code."
     ]
    },
    {
     "cell_type": "markdown",
     "metadata": {
      "slideshow": {
       "slide_type": "slide"
      }
     },
     "source": [
      "## Running Code\n",
      "\n",
      "In the IPython Notebook, code is organised in cells. You can write code in a cell, and execute it to see it's output.\n",
      "\n",
      "To run a cell of code, and move to the next cell, press &lt;Shift&gt;&lt;Enter&gt;"
     ]
    },
    {
     "cell_type": "code",
     "collapsed": false,
     "input": [
      "print(\"Hello World\")"
     ],
     "language": "python",
     "metadata": {
      "slideshow": {
       "slide_type": "fragment"
      }
     },
     "outputs": []
    },
    {
     "cell_type": "markdown",
     "metadata": {
      "slideshow": {
       "slide_type": "-"
      }
     },
     "source": [
      "To run a cell of code in place, press &lt;Control&gt;&lt;Enter&gt;"
     ]
    },
    {
     "cell_type": "code",
     "collapsed": false,
     "input": [
      "import random\n",
      "random.random()"
     ],
     "language": "python",
     "metadata": {
      "slideshow": {
       "slide_type": "fragment"
      }
     },
     "outputs": []
    },
    {
     "cell_type": "markdown",
     "metadata": {
      "slideshow": {
       "slide_type": "fragment"
      }
     },
     "source": [
      "At any time, you can go back to a previous cell to change or run code"
     ]
    },
    {
     "cell_type": "heading",
     "level": 3,
     "metadata": {
      "slideshow": {
       "slide_type": "slide"
      }
     },
     "source": [
      "Python is CaSE sENSitIVE!"
     ]
    },
    {
     "cell_type": "code",
     "collapsed": false,
     "input": [
      "Print(\"Hello World\")"
     ],
     "language": "python",
     "metadata": {
      "slideshow": {
       "slide_type": "-"
      }
     },
     "outputs": []
    },
    {
     "cell_type": "heading",
     "level": 2,
     "metadata": {
      "slideshow": {
       "slide_type": "slide"
      }
     },
     "source": [
      "Variables"
     ]
    },
    {
     "cell_type": "markdown",
     "metadata": {},
     "source": [
      "Variables are defined by setting a variable name equal to some value"
     ]
    },
    {
     "cell_type": "code",
     "collapsed": false,
     "input": [
      "is_raining = True"
     ],
     "language": "python",
     "metadata": {},
     "outputs": []
    },
    {
     "cell_type": "markdown",
     "metadata": {
      "slideshow": {
       "slide_type": "slide"
      }
     },
     "source": [
      "## if statements\n",
      "\n",
      "An if statement evaluates an expression. Only if the expression is True, will the code in the indented block be run.\n"
     ]
    },
    {
     "cell_type": "code",
     "collapsed": false,
     "input": [
      "if is_raining == True:\n",
      "    print(\"Take an umbrella\")\n",
      "#   ^ note that the code is indented. Each line with the same amount of indentation is a code block"
     ],
     "language": "python",
     "metadata": {},
     "outputs": []
    },
    {
     "cell_type": "markdown",
     "metadata": {},
     "source": [
      "Note that to assign the value of True to the variable \"is_raining\", we used a single equal sign `=`  \n",
      "To make a comparison, a double equal sign `==` must be used "
     ]
    },
    {
     "cell_type": "markdown",
     "metadata": {
      "slideshow": {
       "slide_type": "notes"
      }
     },
     "source": [
      "Variables must be defined before they can be used!"
     ]
    },
    {
     "cell_type": "heading",
     "level": 3,
     "metadata": {
      "slideshow": {
       "slide_type": "slide"
      }
     },
     "source": [
      "if / elif / else"
     ]
    },
    {
     "cell_type": "code",
     "collapsed": false,
     "input": [
      "pocket_money = 1.5\n",
      "\n",
      "if pocket_money == 2:\n",
      "    print(\"You can buy a Snickers\")\n",
      "elif pocket_money > 2:\n",
      "    print(\"You can buy a Snickers with change to spare!\")\n",
      "else:\n",
      "    print(\"No chocolate for you\")"
     ],
     "language": "python",
     "metadata": {
      "slideshow": {
       "slide_type": "-"
      }
     },
     "outputs": [
      {
       "output_type": "stream",
       "stream": "stdout",
       "text": [
        "No chocolate for you\n"
       ]
      }
     ],
     "prompt_number": 4
    },
    {
     "cell_type": "heading",
     "level": 2,
     "metadata": {
      "slideshow": {
       "slide_type": "slide"
      }
     },
     "source": [
      "Can you fix this code?"
     ]
    },
    {
     "cell_type": "code",
     "collapsed": false,
     "input": [
      "if is_sunny = TRUE:\n",
      "Print(\"You had better wear your sunglasses!\")"
     ],
     "language": "python",
     "metadata": {},
     "outputs": []
    },
    {
     "cell_type": "markdown",
     "metadata": {
      "slideshow": {
       "slide_type": "slide"
      }
     },
     "source": [
      "## Now lets Blink an LED!\n",
      "\n",
      "First we need to bring in the *module* that allows us to use the \"General Purpose Input / Output\" pins on the Raspberry Pi, (the GPIOs).  "
     ]
    },
    {
     "cell_type": "code",
     "collapsed": false,
     "input": [
      "import RPi.GPIO as gpio  # This brings in the Module RPi.GPIO, but calls it gpio for ease of use\n",
      "\n",
      "gpio.setmode(gpio.BOARD) # This sets the numbering scheme for the pins"
     ],
     "language": "python",
     "metadata": {
      "slideshow": {
       "slide_type": "-"
      }
     },
     "outputs": []
    },
    {
     "cell_type": "code",
     "collapsed": false,
     "input": [
      "gpio.setup(12, gpio.OUT) # This sets pin 12 to be an OUTPUT"
     ],
     "language": "python",
     "metadata": {
      "slideshow": {
       "slide_type": "fragment"
      }
     },
     "outputs": []
    },
    {
     "cell_type": "code",
     "collapsed": false,
     "input": [
      "gpio.output(12, True)"
     ],
     "language": "python",
     "metadata": {
      "slideshow": {
       "slide_type": "fragment"
      }
     },
     "outputs": []
    },
    {
     "cell_type": "markdown",
     "metadata": {
      "slideshow": {
       "slide_type": "subslide"
      }
     },
     "source": [
      "## Wow. You've turned the LED on. That's great! Now to turn it off..."
     ]
    },
    {
     "cell_type": "code",
     "collapsed": false,
     "input": [
      "led_pin = 12\n",
      "gpio.output(led_pin, False)"
     ],
     "language": "python",
     "metadata": {
      "slideshow": {
       "slide_type": "fragment"
      }
     },
     "outputs": []
    },
    {
     "cell_type": "heading",
     "level": 2,
     "metadata": {
      "slideshow": {
       "slide_type": "slide"
      }
     },
     "source": [
      "First on, then off! Now make it blink FOREVER!"
     ]
    },
    {
     "cell_type": "code",
     "collapsed": false,
     "input": [
      "from time import sleep  # <-- This imports the `sleep` function\n",
      "                        # sleep(x) waits for x seconds before proceeding \n",
      "\n",
      "while True:\n",
      "    gpio.output(led_pin, True)\n",
      "    sleep(1)\n",
      "    gpio.output(led_pin, False)\n",
      "    sleep(1)"
     ],
     "language": "python",
     "metadata": {
      "slideshow": {
       "slide_type": "fragment"
      }
     },
     "outputs": []
    },
    {
     "cell_type": "markdown",
     "metadata": {
      "slideshow": {
       "slide_type": "fragment"
      }
     },
     "source": [
      "### A while loop can run forever! Here's how to stop it:\n",
      "\n",
      "In the Terminal, pressing &lt;Control&gt;&lt;c&gt; causes a _KeyboardInterrupt_.  \n",
      "In the IPython Notebook the _KeyboardInterrupt_ is sent by pressing the Stop Button. &nbsp;<i class=\"icon-stop\"></i>"
     ]
    },
    {
     "cell_type": "markdown",
     "metadata": {
      "slideshow": {
       "slide_type": "slide"
      }
     },
     "source": [
      "## For loops\n",
      "\n",
      "You can repeat a block of code many times using a `for` loop"
     ]
    },
    {
     "cell_type": "code",
     "collapsed": false,
     "input": [
      "for x in range(10):\n",
      "    print(x)\n",
      "    sleep(0.5)"
     ],
     "language": "python",
     "metadata": {
      "slideshow": {
       "slide_type": "-"
      }
     },
     "outputs": [
      {
       "output_type": "stream",
       "stream": "stdout",
       "text": [
        "0\n",
        "1"
       ]
      },
      {
       "output_type": "stream",
       "stream": "stdout",
       "text": [
        "\n",
        "2"
       ]
      },
      {
       "output_type": "stream",
       "stream": "stdout",
       "text": [
        "\n",
        "3"
       ]
      },
      {
       "output_type": "stream",
       "stream": "stdout",
       "text": [
        "\n",
        "4"
       ]
      },
      {
       "output_type": "stream",
       "stream": "stdout",
       "text": [
        "\n",
        "5"
       ]
      },
      {
       "output_type": "stream",
       "stream": "stdout",
       "text": [
        "\n",
        "6"
       ]
      },
      {
       "output_type": "stream",
       "stream": "stdout",
       "text": [
        "\n",
        "7"
       ]
      },
      {
       "output_type": "stream",
       "stream": "stdout",
       "text": [
        "\n",
        "8"
       ]
      },
      {
       "output_type": "stream",
       "stream": "stdout",
       "text": [
        "\n",
        "9"
       ]
      },
      {
       "output_type": "stream",
       "stream": "stdout",
       "text": [
        "\n"
       ]
      }
     ],
     "prompt_number": 34
    },
    {
     "cell_type": "heading",
     "level": 2,
     "metadata": {
      "slideshow": {
       "slide_type": "slide"
      }
     },
     "source": [
      "For loops"
     ]
    },
    {
     "cell_type": "code",
     "collapsed": false,
     "input": [
      "# a \"for\" loop steps over each item in a list\n",
      "\n",
      "for name in [\"James\", \"Natalie\", \"Alisha\", \"Andrew\"]:\n",
      "    print(\"hello {}\".format(name))"
     ],
     "language": "python",
     "metadata": {
      "slideshow": {
       "slide_type": "-"
      }
     },
     "outputs": [
      {
       "output_type": "stream",
       "stream": "stdout",
       "text": [
        "hello James\n",
        "hello Natalie\n",
        "hello Alisha\n",
        "hello Andrew\n"
       ]
      }
     ],
     "prompt_number": 10
    },
    {
     "cell_type": "code",
     "collapsed": false,
     "input": [
      "# you can add an index to your list with enumerate()\n",
      "\n",
      "for i, name in enumerate([\"James\", \"Natalie\", \"Alisha\", \"Andrew\"]):\n",
      "    print(\"Hello {}, you are number {}\".format(name, i))"
     ],
     "language": "python",
     "metadata": {
      "slideshow": {
       "slide_type": "fragment"
      }
     },
     "outputs": [
      {
       "output_type": "stream",
       "stream": "stdout",
       "text": [
        "Hello James, you are number 0\n",
        "Hello Natalie, you are number 1\n",
        "Hello Alisha, you are number 2\n",
        "Hello Andrew, you are number 3\n"
       ]
      }
     ],
     "prompt_number": 9
    },
    {
     "cell_type": "markdown",
     "metadata": {
      "slideshow": {
       "slide_type": "slide"
      }
     },
     "source": [
      "## Reusing code: functions\n",
      "\n",
      "Functions are a way to reuse code.\n",
      "\n",
      "They can be called with `Arguments`, that are available within the function."
     ]
    },
    {
     "cell_type": "code",
     "collapsed": false,
     "input": [
      "def is_it_fun(x):\n",
      "    return \"fun\" in x\n",
      "\n",
      "is_it_fun(\"function\")"
     ],
     "language": "python",
     "metadata": {
      "slideshow": {
       "slide_type": "-"
      }
     },
     "outputs": [
      {
       "metadata": {},
       "output_type": "pyout",
       "prompt_number": 13,
       "text": [
        "True"
       ]
      }
     ],
     "prompt_number": 13
    },
    {
     "cell_type": "code",
     "collapsed": false,
     "input": [
      "def blink_once(pin, duration):\n",
      "    gpio.output(pin, True)\n",
      "    sleep(duration)\n",
      "    gpio.output(pin, False)\n",
      "    sleep(duration)\n",
      "\n",
      "blink_once(12, .1)"
     ],
     "language": "python",
     "metadata": {
      "slideshow": {
       "slide_type": "fragment"
      }
     },
     "outputs": []
    },
    {
     "cell_type": "code",
     "collapsed": false,
     "input": [
      "for i in range(10):\n",
      "    blink_once(12, .1)"
     ],
     "language": "python",
     "metadata": {
      "slideshow": {
       "slide_type": "fragment"
      }
     },
     "outputs": []
    },
    {
     "cell_type": "markdown",
     "metadata": {
      "slideshow": {
       "slide_type": "fragment"
      }
     },
     "source": [
      "### Why not make that into a new function?"
     ]
    },
    {
     "cell_type": "code",
     "collapsed": false,
     "input": [
      "def blink(pin, num_times, duration):\n",
      "    for i in range(num_times):\n",
      "        blink_once(pin, duration)\n",
      "\n",
      "blink(12, 50, .05)"
     ],
     "language": "python",
     "metadata": {
      "slideshow": {
       "slide_type": "fragment"
      }
     },
     "outputs": []
    },
    {
     "cell_type": "heading",
     "level": 2,
     "metadata": {
      "slideshow": {
       "slide_type": "slide"
      }
     },
     "source": [
      "Coding Challenge: Can you write a function that blinks SOS in Morse Code? ... --- ..."
     ]
    },
    {
     "cell_type": "code",
     "collapsed": false,
     "input": [
      "def SOS(t=0.2, pin=12):\n",
      "    blink(pin, 3, t)\n",
      "    sleep(t)\n",
      "    blink(pin, 3, 3 * t)\n",
      "    sleep(t)\n",
      "    blink(pin, 3, t)\n",
      "    sleep(t)\n",
      "\n",
      "SOS()"
     ],
     "language": "python",
     "metadata": {
      "slideshow": {
       "slide_type": "subslide"
      }
     },
     "outputs": []
    },
    {
     "cell_type": "markdown",
     "metadata": {
      "slideshow": {
       "slide_type": "slide"
      }
     },
     "source": [
      "# Part 2: Pushing my buttons"
     ]
    },
    {
     "cell_type": "markdown",
     "metadata": {
      "slideshow": {
       "slide_type": "-"
      }
     },
     "source": [
      "First connect the pushbutton to pin 16 according to this wiring diagram:"
     ]
    },
    {
     "cell_type": "heading",
     "level": 2,
     "metadata": {
      "slideshow": {
       "slide_type": "slide"
      }
     },
     "source": [
      "Pullups\n",
      "The Raspberry Pi has internal pullups."
     ]
    },
    {
     "cell_type": "markdown",
     "metadata": {
      "slideshow": {
       "slide_type": "-"
      }
     },
     "source": [
      "![](static/A1/pullup.svg)\n"
     ]
    },
    {
     "cell_type": "markdown",
     "metadata": {},
     "source": [
      "Pull-up (and sometimes pull-down) resistors are often necessary in digital circuits. They ensure that the circuit is always in either a HIGH or a LOW state. For a switch with a Pull-up resistor, when the button is not pushed (Middle), the input is only connected to the VCC via the resistor, thus is HIGH. When the button is pushed (Right) the connection through the switch to ground is much lower resistance than the connection through the resistor to VCC, therefore voltage at the input is LOW.\n",
      "\n",
      "Without a pull-up resistor, with the button not pushed the input would be \"floating\", (would not have a defined state), and could read either HIGH or LOW, fluctuating with electrical noise."
     ]
    },
    {
     "cell_type": "markdown",
     "metadata": {
      "slideshow": {
       "slide_type": "slide"
      }
     },
     "source": [
      "## Reading a button press\n",
      "With the pullup enabled, the input will read 1 (representing HIGH), unless the button is being pressed: then it will read 0 (representing LOW)."
     ]
    },
    {
     "cell_type": "code",
     "collapsed": false,
     "input": [
      "button_pin = 16\n",
      "gpio.setup(button_pin, gpio.IN, gpio.PUD_UP)\n",
      "gpio.input(button_pin)"
     ],
     "language": "python",
     "metadata": {
      "slideshow": {
       "slide_type": "-"
      }
     },
     "outputs": []
    },
    {
     "cell_type": "code",
     "collapsed": false,
     "input": [
      "if gpio.input(button_pin):\n",
      "    print(\"Try again\")\n",
      "else:\n",
      "    print(\"Beep boop!\")"
     ],
     "language": "python",
     "metadata": {
      "slideshow": {
       "slide_type": "-"
      }
     },
     "outputs": []
    },
    {
     "cell_type": "markdown",
     "metadata": {
      "slideshow": {
       "slide_type": "slide"
      }
     },
     "source": [
      "## Wait for it...\n",
      "A _while_ loop repeatedly checks a condition, and executes the indented code block unless the conditon fails.\n",
      "\n",
      "This is useful for waiting for user input:"
     ]
    },
    {
     "cell_type": "code",
     "collapsed": false,
     "input": [
      "while gpio.input(button_pin):\n",
      "    blink_once(12, .2)\n",
      "print(\"Who pressed that?\")"
     ],
     "language": "python",
     "metadata": {
      "slideshow": {
       "slide_type": "-"
      }
     },
     "outputs": []
    },
    {
     "cell_type": "code",
     "collapsed": false,
     "input": [
      "while True:\n",
      "    if not gpio.input(button_pin):\n",
      "        print(\"Please do not push this button again!\")\n",
      "        sleep(1)"
     ],
     "language": "python",
     "metadata": {
      "slideshow": {
       "slide_type": "slide"
      }
     },
     "outputs": []
    },
    {
     "cell_type": "markdown",
     "metadata": {},
     "source": [
      "## Breaking out of a _while_ statement\n",
      "\n",
      "You can exit a while statement within your code with _break_"
     ]
    },
    {
     "cell_type": "code",
     "collapsed": false,
     "input": [
      "last_state = 1\n",
      "count = 0\n",
      "while True:\n",
      "    state = gpio.input(button_pin)\n",
      "    if state != last_state:\n",
      "        if state == 0:\n",
      "            count += 1\n",
      "            print(\"Button Pushed {} times\".format(count))\n",
      "            if count == 5:\n",
      "                print(\"That's 5 times too many!\")\n",
      "                break     # This leaves the while statement\n",
      "        last_state = state"
     ],
     "language": "python",
     "metadata": {
      "slideshow": {
       "slide_type": "-"
      }
     },
     "outputs": []
    },
    {
     "cell_type": "markdown",
     "metadata": {
      "slideshow": {
       "slide_type": "skip"
      }
     },
     "source": [
      "## Catching Exceptions\n",
      "\n",
      "_KeyboardInterrupt_ is an Exception.  \n",
      "It's possible to 'catch' Exceptions, and do something useful."
     ]
    },
    {
     "cell_type": "code",
     "collapsed": false,
     "input": [
      "last_state = 1\n",
      "\n",
      "try:\n",
      "    while True:\n",
      "        state = gpio.input(button_pin)\n",
      "        if state != last_state: # != means 'does not equal'\n",
      "            if state == 0:      # == means 'equals'\n",
      "                print(\"Button Pushed\")\n",
      "            else:\n",
      "                print(\"Button Released\")\n",
      "            last_state = state   # = is an assignment. You will get an error if you confuse == with =\n",
      "except KeyboardInterrupt as e:\n",
      "    print(\"Stopped\")"
     ],
     "language": "python",
     "metadata": {
      "slideshow": {
       "slide_type": "skip"
      }
     },
     "outputs": []
    },
    {
     "cell_type": "heading",
     "level": 1,
     "metadata": {},
     "source": [
      "Part 3: Sending a distress signal"
     ]
    },
    {
     "cell_type": "code",
     "collapsed": false,
     "input": [],
     "language": "python",
     "metadata": {},
     "outputs": []
    },
    {
     "cell_type": "code",
     "collapsed": false,
     "input": [
      "import ewb\n",
      "\n",
      "\n",
      "# Initialise your radio with the desired tuning frequency.\n",
      "frequencies = [87.9, 88.1, 88.3, 88.5, 88.7, 88.9, 89.1, 89.3]\n",
      "group = 1\n",
      "\n",
      "freq = frequencies[group - 1]\n",
      "print(\"Tune to {} MHz\".format(freq))\n",
      "\n",
      "radio = ewb.Radio(freq)\n",
      "radio.say(\"Help, I've fallen and cannot get up.\")"
     ],
     "language": "python",
     "metadata": {},
     "outputs": [
      {
       "output_type": "stream",
       "stream": "stdout",
       "text": [
        "Tune to 87.9 MHz\n"
       ]
      }
     ],
     "prompt_number": 16
    },
    {
     "cell_type": "heading",
     "level": 2,
     "metadata": {},
     "source": [
      "Connecting the GPS"
     ]
    },
    {
     "cell_type": "code",
     "collapsed": false,
     "input": [
      "gps = ewb.Gps()\n",
      "\n",
      "gps.lat\n",
      "gps.lon"
     ],
     "language": "python",
     "metadata": {},
     "outputs": [
      {
       "ename": "NameError",
       "evalue": "name 'ewb' is not defined",
       "output_type": "pyerr",
       "traceback": [
        "\u001b[0;31m---------------------------------------------------------------------------\u001b[0m\n\u001b[0;31mNameError\u001b[0m                                 Traceback (most recent call last)",
        "\u001b[0;32m<ipython-input-47-2dadb85bef70>\u001b[0m in \u001b[0;36m<module>\u001b[0;34m()\u001b[0m\n\u001b[0;32m----> 1\u001b[0;31m \u001b[0mgps\u001b[0m \u001b[0;34m=\u001b[0m \u001b[0mewb\u001b[0m\u001b[0;34m.\u001b[0m\u001b[0mGps\u001b[0m\u001b[0;34m(\u001b[0m\u001b[0;34m)\u001b[0m\u001b[0;34m\u001b[0m\u001b[0m\n\u001b[0m\u001b[1;32m      2\u001b[0m \u001b[0;34m\u001b[0m\u001b[0m\n\u001b[1;32m      3\u001b[0m \u001b[0mgps\u001b[0m\u001b[0;34m.\u001b[0m\u001b[0mlat\u001b[0m\u001b[0;34m\u001b[0m\u001b[0m\n\u001b[1;32m      4\u001b[0m \u001b[0mgps\u001b[0m\u001b[0;34m.\u001b[0m\u001b[0mlon\u001b[0m\u001b[0;34m\u001b[0m\u001b[0m\n",
        "\u001b[0;31mNameError\u001b[0m: name 'ewb' is not defined"
       ]
      }
     ],
     "prompt_number": 47
    },
    {
     "cell_type": "heading",
     "level": 2,
     "metadata": {},
     "source": [
      "Creating a message"
     ]
    },
    {
     "cell_type": "code",
     "collapsed": false,
     "input": [
      "message = \"Help me. I am at Lattitude {} Longitude {}. Please send help\".format(gps.lat, gps.lon)\n",
      "radio.say(message)"
     ],
     "language": "python",
     "metadata": {},
     "outputs": []
    },
    {
     "cell_type": "code",
     "collapsed": false,
     "input": [
      "medical_supplies = [\"Panadol\", \"Bandages\", \"Water Purification tablets\", \"Scalpels\"]\n",
      "\n",
      "radio.say(\"Medical supplies required\")\n",
      "for item in medical_supplies:\n",
      "    radio.say(item)"
     ],
     "language": "python",
     "metadata": {},
     "outputs": []
    },
    {
     "cell_type": "code",
     "collapsed": false,
     "input": [
      "qty_required = {\"Panadol\": 500,\n",
      "                \"Bandages\": 50,\n",
      "                \"Water Purification Tablets\": 10000,\n",
      "                \"Scalpels\": 20,\n",
      "                \"Antiseptic\": 200}\n"
     ],
     "language": "python",
     "metadata": {},
     "outputs": []
    },
    {
     "cell_type": "heading",
     "level": 1,
     "metadata": {
      "slideshow": {
       "slide_type": "slide"
      }
     },
     "source": [
      "Part 4: Advanced Blinking - Morse Code"
     ]
    },
    {
     "cell_type": "markdown",
     "metadata": {
      "slideshow": {
       "slide_type": "slide"
      }
     },
     "source": [
      "I only know a little bit of morse code. For example, I know that S is ... O is --- E is . and T is -  \n",
      "How could I blink the LED to display a meaningful message?"
     ]
    },
    {
     "cell_type": "code",
     "collapsed": false,
     "input": [
      "morse_code = {'s': '...',\n",
      "              'o': '---',\n",
      "              'e': '.',\n",
      "              't': '-',\n",
      "             }"
     ],
     "language": "python",
     "metadata": {
      "slideshow": {
       "slide_type": "fragment"
      }
     },
     "outputs": [],
     "prompt_number": 18
    },
    {
     "cell_type": "code",
     "collapsed": false,
     "input": [
      "def morse(text):\n",
      "    for char in text:\n",
      "        print(morse_code[char])\n",
      "        \n",
      "morse(\"toes\")"
     ],
     "language": "python",
     "metadata": {
      "slideshow": {
       "slide_type": "fragment"
      }
     },
     "outputs": []
    },
    {
     "cell_type": "code",
     "collapsed": false,
     "input": [
      "def morse(text):\n",
      "    message = []\n",
      "    for char in text:\n",
      "        message.append(morse_code[char])\n",
      "    return message\n",
      "\n",
      "morse(\"toes\")"
     ],
     "language": "python",
     "metadata": {
      "slideshow": {
       "slide_type": "slide"
      }
     },
     "outputs": [
      {
       "metadata": {},
       "output_type": "pyout",
       "prompt_number": 38,
       "text": [
        "['-', '---', '.', '...']"
       ]
      }
     ],
     "prompt_number": 38
    },
    {
     "cell_type": "code",
     "collapsed": false,
     "input": [
      "\" \".join(morse(\"toes\"))"
     ],
     "language": "python",
     "metadata": {
      "slideshow": {
       "slide_type": "fragment"
      }
     },
     "outputs": [
      {
       "metadata": {},
       "output_type": "pyout",
       "prompt_number": 36,
       "text": [
        "'- --- . ...'"
       ]
      }
     ],
     "prompt_number": 36
    },
    {
     "cell_type": "code",
     "collapsed": false,
     "input": [
      "\" \".join(morse(\"help\"))"
     ],
     "language": "python",
     "metadata": {
      "slideshow": {
       "slide_type": "slide"
      }
     },
     "outputs": [
      {
       "ename": "KeyError",
       "evalue": "'h'",
       "output_type": "pyerr",
       "traceback": [
        "\u001b[0;31m---------------------------------------------------------------------------\u001b[0m\n\u001b[0;31mKeyError\u001b[0m                                  Traceback (most recent call last)",
        "\u001b[0;32m<ipython-input-37-e56ac1de16b1>\u001b[0m in \u001b[0;36m<module>\u001b[0;34m()\u001b[0m\n\u001b[0;32m----> 1\u001b[0;31m \u001b[0;34m\" \"\u001b[0m\u001b[0;34m.\u001b[0m\u001b[0mjoin\u001b[0m\u001b[0;34m(\u001b[0m\u001b[0mmorse\u001b[0m\u001b[0;34m(\u001b[0m\u001b[0;34m\"help\"\u001b[0m\u001b[0;34m)\u001b[0m\u001b[0;34m)\u001b[0m\u001b[0;34m\u001b[0m\u001b[0m\n\u001b[0m",
        "\u001b[0;32m<ipython-input-35-a5fd3fa74b2e>\u001b[0m in \u001b[0;36mmorse\u001b[0;34m(text)\u001b[0m\n\u001b[1;32m      5\u001b[0m     \u001b[0mmessage\u001b[0m \u001b[0;34m=\u001b[0m \u001b[0;34m[\u001b[0m\u001b[0;34m]\u001b[0m\u001b[0;34m\u001b[0m\u001b[0m\n\u001b[1;32m      6\u001b[0m     \u001b[0;32mfor\u001b[0m \u001b[0mchar\u001b[0m \u001b[0;32min\u001b[0m \u001b[0mtext\u001b[0m\u001b[0;34m:\u001b[0m\u001b[0;34m\u001b[0m\u001b[0m\n\u001b[0;32m----> 7\u001b[0;31m         \u001b[0mmessage\u001b[0m\u001b[0;34m.\u001b[0m\u001b[0mappend\u001b[0m\u001b[0;34m(\u001b[0m\u001b[0mmorse_code\u001b[0m\u001b[0;34m[\u001b[0m\u001b[0mchar\u001b[0m\u001b[0;34m]\u001b[0m\u001b[0;34m)\u001b[0m\u001b[0;34m\u001b[0m\u001b[0m\n\u001b[0m\u001b[1;32m      8\u001b[0m     \u001b[0;32mreturn\u001b[0m \u001b[0mmessage\u001b[0m\u001b[0;34m\u001b[0m\u001b[0m\n\u001b[1;32m      9\u001b[0m \u001b[0;34m\u001b[0m\u001b[0m\n",
        "\u001b[0;31mKeyError\u001b[0m: 'h'"
       ]
      }
     ],
     "prompt_number": 37
    },
    {
     "cell_type": "markdown",
     "metadata": {
      "slideshow": {
       "slide_type": "-"
      }
     },
     "source": [
      "_KeyError_ means that the dictionary doesn't have a matching key."
     ]
    },
    {
     "cell_type": "code",
     "collapsed": false,
     "input": [
      "def morse(text):\n",
      "    message = []\n",
      "    for char in text:\n",
      "        message.append(morse_code.get(char, \"?\")) # If a key is not found, return `?` as a default\n",
      "    return message\n",
      "\n",
      "morse(\"help\")"
     ],
     "language": "python",
     "metadata": {},
     "outputs": [
      {
       "metadata": {},
       "output_type": "pyout",
       "prompt_number": 41,
       "text": [
        "['?', '.', '?', '?']"
       ]
      }
     ],
     "prompt_number": 41
    },
    {
     "cell_type": "markdown",
     "metadata": {
      "slideshow": {
       "slide_type": "slide"
      }
     },
     "source": [
      "## Does anyone know morse code?"
     ]
    },
    {
     "cell_type": "markdown",
     "metadata": {
      "slideshow": {
       "slide_type": "slide"
      }
     },
     "source": [
      "## Here's one I prepared earlier"
     ]
    },
    {
     "cell_type": "code",
     "collapsed": false,
     "input": [
      "import ewb\n",
      "ewb.morse"
     ],
     "language": "python",
     "metadata": {
      "slideshow": {
       "slide_type": "fragment"
      }
     },
     "outputs": [
      {
       "ename": "ImportError",
       "evalue": "No module named ewb",
       "output_type": "pyerr",
       "traceback": [
        "\u001b[0;31m---------------------------------------------------------------------------\u001b[0m\n\u001b[0;31mImportError\u001b[0m                               Traceback (most recent call last)",
        "\u001b[0;32m<ipython-input-42-eb3134895227>\u001b[0m in \u001b[0;36m<module>\u001b[0;34m()\u001b[0m\n\u001b[0;32m----> 1\u001b[0;31m \u001b[0;32mimport\u001b[0m \u001b[0mewb\u001b[0m\u001b[0;34m\u001b[0m\u001b[0m\n\u001b[0m\u001b[1;32m      2\u001b[0m \u001b[0mewb\u001b[0m\u001b[0;34m.\u001b[0m\u001b[0mmorse\u001b[0m\u001b[0;34m\u001b[0m\u001b[0m\n",
        "\u001b[0;31mImportError\u001b[0m: No module named ewb"
       ]
      }
     ],
     "prompt_number": 42
    },
    {
     "cell_type": "code",
     "collapsed": false,
     "input": [
      "morse_code = ewb.morse\n",
      "\n",
      "print(\" \".join(morse(\"HI PYTHON\")))"
     ],
     "language": "python",
     "metadata": {
      "slideshow": {
       "slide_type": "slide"
      }
     },
     "outputs": []
    },
    {
     "cell_type": "code",
     "collapsed": false,
     "input": [
      "print(\" \".join(morse(\"Hello Python\")))"
     ],
     "language": "python",
     "metadata": {
      "slideshow": {
       "slide_type": "fragment"
      }
     },
     "outputs": []
    },
    {
     "cell_type": "markdown",
     "metadata": {
      "slideshow": {
       "slide_type": "fragment"
      }
     },
     "source": [
      "We're getting _KeyError_ because the dictionary only has uppercase letters, yet we're looking for 'e'.\n",
      "\n",
      "Strings have a method called _upper_ that converts the string to uppercase."
     ]
    },
    {
     "cell_type": "code",
     "collapsed": false,
     "input": [
      "def morse(text):\n",
      "    #return \" \".join([morse_code[char.upper()] for char in text])\n",
      "\n",
      "    message = []\n",
      "    for char in text:\n",
      "        message.append(morse_code.get(char.upper(), \"?\"))\n",
      "    return \" \".join(message)\n",
      "\n",
      "print(morse(\"Hello There\"))"
     ],
     "language": "python",
     "metadata": {
      "slideshow": {
       "slide_type": "fragment"
      }
     },
     "outputs": [
      {
       "output_type": "stream",
       "stream": "stdout",
       "text": [
        "? ? ? ? ? ? ? ? ? ? ?\n"
       ]
      }
     ],
     "prompt_number": 46
    },
    {
     "cell_type": "heading",
     "level": 2,
     "metadata": {
      "slideshow": {
       "slide_type": "slide"
      }
     },
     "source": [
      "Coding Challenge: Write a function that blinks the message in Morse Code"
     ]
    },
    {
     "cell_type": "code",
     "collapsed": false,
     "input": [
      "def blink_morse(morse_text, char_time=0.2):\n",
      "    for mchar in morse_text:\n",
      "        if mchar == \".\":\n",
      "            blink_once(led_pin, char_time)\n",
      "        if mchar == \"-\":\n",
      "            blink_once(led_pin, 3 * char_time)\n",
      "        if mchar == \" \":\n",
      "            sleep(char_time)\n",
      "\n",
      "blink_morse(morse(\"Hello There\"))"
     ],
     "language": "python",
     "metadata": {
      "slideshow": {
       "slide_type": "fragment"
      }
     },
     "outputs": []
    },
    {
     "cell_type": "markdown",
     "metadata": {
      "slideshow": {
       "slide_type": "subslide"
      }
     },
     "source": [
      "## Advanced Coding Challenge: Write a function that converts Morse to Text"
     ]
    },
    {
     "cell_type": "code",
     "collapsed": false,
     "input": [
      "# This snippet inverts the morse_code dictionary using a \"dictionary comprehension\" - it's pretty neat\n",
      "\n",
      "inv_morse_code = {mc:c for c, mc in morse_code.items()}"
     ],
     "language": "python",
     "metadata": {},
     "outputs": [],
     "prompt_number": 52
    },
    {
     "cell_type": "code",
     "collapsed": false,
     "input": [
      "def morse_2_text(morse_text):\n",
      "    words = []\n",
      "    for morse_word in morse_text.split(\"   \"):\n",
      "        chars = []\n",
      "        for morse_char in morse_word.split(\" \"):\n",
      "            chars.append(inv_morse_code[morse_char])\n",
      "        words.append(\"\".join(chars))\n",
      "    return \" \".join(words)\n",
      "\n",
      "morse_to_text('.... . .-.. .-.. ---   - .... . .-. .')"
     ],
     "language": "python",
     "metadata": {
      "slideshow": {
       "slide_type": "fragment"
      }
     },
     "outputs": [
      {
       "ename": "KeyError",
       "evalue": "'....'",
       "output_type": "pyerr",
       "traceback": [
        "\u001b[0;31m---------------------------------------------------------------------------\u001b[0m\n\u001b[0;31mKeyError\u001b[0m                                  Traceback (most recent call last)",
        "\u001b[0;32m<ipython-input-53-220268833ca9>\u001b[0m in \u001b[0;36m<module>\u001b[0;34m()\u001b[0m\n\u001b[1;32m     11\u001b[0m \u001b[0;34m\u001b[0m\u001b[0m\n\u001b[1;32m     12\u001b[0m \u001b[0;34m\u001b[0m\u001b[0m\n\u001b[0;32m---> 13\u001b[0;31m \u001b[0mmorse_to_text\u001b[0m\u001b[0;34m(\u001b[0m\u001b[0;34m'.... . .-.. .-.. ---   - .... . .-. .'\u001b[0m\u001b[0;34m)\u001b[0m\u001b[0;34m\u001b[0m\u001b[0m\n\u001b[0m",
        "\u001b[0;32m<ipython-input-53-220268833ca9>\u001b[0m in \u001b[0;36mmorse_to_text\u001b[0;34m(morse_text)\u001b[0m\n\u001b[1;32m      2\u001b[0m     \u001b[0mwords\u001b[0m \u001b[0;34m=\u001b[0m \u001b[0;34m[\u001b[0m\u001b[0;34m]\u001b[0m\u001b[0;34m\u001b[0m\u001b[0m\n\u001b[1;32m      3\u001b[0m     \u001b[0;32mfor\u001b[0m \u001b[0mmorse_word\u001b[0m \u001b[0;32min\u001b[0m \u001b[0mmorse_text\u001b[0m\u001b[0;34m.\u001b[0m\u001b[0msplit\u001b[0m\u001b[0;34m(\u001b[0m\u001b[0;34m\"   \"\u001b[0m\u001b[0;34m)\u001b[0m\u001b[0;34m:\u001b[0m\u001b[0;34m\u001b[0m\u001b[0m\n\u001b[0;32m----> 4\u001b[0;31m         \u001b[0mwords\u001b[0m\u001b[0;34m.\u001b[0m\u001b[0mappend\u001b[0m\u001b[0;34m(\u001b[0m\u001b[0;34m\"\"\u001b[0m\u001b[0;34m.\u001b[0m\u001b[0mjoin\u001b[0m\u001b[0;34m(\u001b[0m\u001b[0;34m[\u001b[0m\u001b[0minv_morse_code\u001b[0m\u001b[0;34m[\u001b[0m\u001b[0mmorse_char\u001b[0m\u001b[0;34m]\u001b[0m \u001b[0;32mfor\u001b[0m \u001b[0mmorse_char\u001b[0m \u001b[0;32min\u001b[0m \u001b[0mmorse_word\u001b[0m\u001b[0;34m.\u001b[0m\u001b[0msplit\u001b[0m\u001b[0;34m(\u001b[0m\u001b[0;34m\" \"\u001b[0m\u001b[0;34m)\u001b[0m\u001b[0;34m]\u001b[0m\u001b[0;34m)\u001b[0m\u001b[0;34m)\u001b[0m\u001b[0;34m\u001b[0m\u001b[0m\n\u001b[0m\u001b[1;32m      5\u001b[0m     \u001b[0;32mreturn\u001b[0m \u001b[0;34m\" \"\u001b[0m\u001b[0;34m.\u001b[0m\u001b[0mjoin\u001b[0m\u001b[0;34m(\u001b[0m\u001b[0mwords\u001b[0m\u001b[0;34m)\u001b[0m\u001b[0;34m\u001b[0m\u001b[0m\n\u001b[1;32m      6\u001b[0m \u001b[0;34m\u001b[0m\u001b[0m\n",
        "\u001b[0;31mKeyError\u001b[0m: '....'"
       ]
      }
     ],
     "prompt_number": 53
    },
    {
     "cell_type": "code",
     "collapsed": false,
     "input": [
      "# Alternative using list comprehesions\n",
      "\n",
      "def morse_to_text(morse_text):\n",
      "    words = []\n",
      "    for morse_word in morse_text.split(\"   \"):\n",
      "        words.append(\"\".join([inv_morse_code[morse_char] for morse_char in morse_word.split(\" \")]))\n",
      "    return \" \".join(words)\n"
     ],
     "language": "python",
     "metadata": {
      "slideshow": {
       "slide_type": "skip"
      }
     },
     "outputs": []
    },
    {
     "cell_type": "heading",
     "level": 1,
     "metadata": {
      "slideshow": {
       "slide_type": "slide"
      }
     },
     "source": [
      "Summary"
     ]
    },
    {
     "cell_type": "markdown",
     "metadata": {},
     "source": [
      "Wow! Well done! You have covered so much today\n",
      "\n",
      "* How to run code\n",
      "* Variables\n",
      "* Comparison vs assignment\n",
      "* If statements / elif / else\n",
      "* While statements\n",
      "* For statements\n",
      "* Ranges\n",
      "* Functions\n",
      "* Blinking LEDs\n",
      "* Reading button presses\n",
      "* Transmitting distress signals\n",
      "* Generating  strings\n",
      "* Lists\n",
      "* Dictionaries\n",
      "* and more!"
     ]
    }
   ],
   "metadata": {}
  }
 ]
}