{
 "metadata": {
  "name": "",
  "signature": "sha256:bfe500a4072ca9d3af2ca325e2bb900e6211758ba1ed95d5ef0222a960fc014d"
 },
 "nbformat": 3,
 "nbformat_minor": 0,
 "worksheets": [
  {
   "cells": [
    {
     "cell_type": "heading",
     "level": 1,
     "metadata": {},
     "source": [
      "Python Basics"
     ]
    },
    {
     "cell_type": "heading",
     "level": 2,
     "metadata": {},
     "source": [
      "Running Code"
     ]
    },
    {
     "cell_type": "code",
     "collapsed": false,
     "input": [
      "# <-- This hash \"comments\" the rest of this line\n",
      "\n",
      "## To run this cell of code, select it, and press <Shift> <Enter>\n",
      "\n",
      "## Why don't you try the code to print \"Hello World\" in this cell?\n",
      "## The syntax for the `print` statement, where x is a String, is:\n",
      "\n",
      "# print(x)\n",
      "\n"
     ],
     "language": "python",
     "metadata": {},
     "outputs": []
    },
    {
     "cell_type": "code",
     "collapsed": false,
     "input": [
      "# You can run a cell over and over again by pressing <Control> <Enter>\n",
      "\n",
      "print(\"Insanity: doing the same thing over and over again and expecting different results.\")\n",
      "\n",
      "import random\n",
      "random.random()"
     ],
     "language": "python",
     "metadata": {},
     "outputs": []
    },
    {
     "cell_type": "heading",
     "level": 3,
     "metadata": {},
     "source": [
      "At any time, you can go back to a previous cell to change or run code"
     ]
    },
    {
     "cell_type": "heading",
     "level": 2,
     "metadata": {},
     "source": [
      "Variables and if statements"
     ]
    },
    {
     "cell_type": "code",
     "collapsed": false,
     "input": [
      "is_raining = True\n",
      "\n",
      "if is_raining == True:\n",
      "     print(\"Take an umbrella\")"
     ],
     "language": "python",
     "metadata": {},
     "outputs": []
    },
    {
     "cell_type": "code",
     "collapsed": false,
     "input": [
      "# You must initialise variables before they can be used"
     ],
     "language": "python",
     "metadata": {},
     "outputs": []
    },
    {
     "cell_type": "heading",
     "level": 2,
     "metadata": {},
     "source": [
      "Can you fix this code?"
     ]
    },
    {
     "cell_type": "code",
     "collapsed": false,
     "input": [
      "if is_sunny = TRUE:\n",
      "Print(\"You had better wear your sunglasses!\")"
     ],
     "language": "python",
     "metadata": {},
     "outputs": []
    },
    {
     "cell_type": "heading",
     "level": 2,
     "metadata": {},
     "source": [
      "Let's blink an LED"
     ]
    },
    {
     "cell_type": "code",
     "collapsed": false,
     "input": [
      "import RPi.GPIO as gpio  # This brings in the Module RPi.GPIO, but calls it gpio for ease of use\n",
      "\n",
      "gpio.setmode(gpio.BOARD) # This sets the numbering scheme for the pins\n",
      "gpio.setup(12, gpio.OUT) # This sets pin 12 to be an OUTPUT\n",
      "\n",
      "# > Now call gpio.output(pin_number, value)\n",
      "# where value is be True for a \"HIGH\" voltage level, or False for a \"LOW\" voltage level\n",
      "\n"
     ],
     "language": "python",
     "metadata": {},
     "outputs": []
    },
    {
     "cell_type": "heading",
     "level": 3,
     "metadata": {},
     "source": [
      "Ok. Now to turn it off.."
     ]
    },
    {
     "cell_type": "code",
     "collapsed": false,
     "input": [
      "# led_pin = 12"
     ],
     "language": "python",
     "metadata": {},
     "outputs": []
    },
    {
     "cell_type": "heading",
     "level": 3,
     "metadata": {},
     "source": [
      "Now make it blink continuously"
     ]
    },
    {
     "cell_type": "code",
     "collapsed": false,
     "input": [
      "# you will need to import the \"sleep\" function from the \"time\" module\n",
      "# like this:\n",
      "#     from <module> import <function>\n",
      "\n",
      "# \n",
      "\n",
      "# while (condition):\n",
      "#     #run the code here until condition is False\n",
      "\n",
      "# while True:\n",
      "#     #run the code here forever\n",
      "\n"
     ],
     "language": "python",
     "metadata": {},
     "outputs": []
    },
    {
     "cell_type": "markdown",
     "metadata": {},
     "source": [
      "#### A while loop can run forever! Here's how to stop it:\n",
      "\n",
      "In the Terminal, pressing &lt;Control&gt;&lt;c&gt; causes a _KeyboardInterrupt_.  \n",
      "In the **IPython Notebook** the _KeyboardInterrupt_ is sent by pressing the Stop Button. &nbsp;<i class=\"icon-stop\"></i>"
     ]
    },
    {
     "cell_type": "heading",
     "level": 3,
     "metadata": {},
     "source": [
      "For Loops"
     ]
    },
    {
     "cell_type": "code",
     "collapsed": false,
     "input": [
      "# iterate over a list with a `for` loop\n",
      "#\n",
      "# for <item> in <list>:\n",
      "#     pass\n",
      "\n",
      "# range(n) gives a list starting from 0 to n-1\n",
      "# for i in range:\n",
      "#      print i"
     ],
     "language": "python",
     "metadata": {},
     "outputs": []
    },
    {
     "cell_type": "heading",
     "level": 3,
     "metadata": {},
     "source": [
      "Write a function called \"blink_once\""
     ]
    },
    {
     "cell_type": "code",
     "collapsed": false,
     "input": [
      "# A function definition looks like:\n",
      "\n",
      "# def function_name(argument1, argument2):\n",
      "#     # code goes here\n",
      "\n",
      "# Arguments are input variables to the function\n",
      "# Arguments are optional, and you can have as many as you like\n",
      "\n",
      "# def blink_once(pin, duration):\n",
      "\n",
      "#"
     ],
     "language": "python",
     "metadata": {},
     "outputs": []
    },
    {
     "cell_type": "heading",
     "level": 3,
     "metadata": {},
     "source": [
      "Write a function that blinks a given number of times"
     ]
    },
    {
     "cell_type": "code",
     "collapsed": false,
     "input": [
      "# Write a function called \"blink\"\n",
      "# with the arguments pin, num_times, duration\n",
      "\n",
      "#"
     ],
     "language": "python",
     "metadata": {},
     "outputs": []
    },
    {
     "cell_type": "code",
     "collapsed": false,
     "input": [
      "blink(12, 50, .05)"
     ],
     "language": "python",
     "metadata": {},
     "outputs": []
    },
    {
     "cell_type": "heading",
     "level": 3,
     "metadata": {},
     "source": [
      "Coding Challenge: Can you write a function that blinks SOS in Morse Code? ... --- ..."
     ]
    },
    {
     "cell_type": "code",
     "collapsed": false,
     "input": [
      "# Write a function called SOS()\n",
      "# Try calling some of the functions that you defined above.\n",
      "\n",
      "\n",
      "SOS()"
     ],
     "language": "python",
     "metadata": {},
     "outputs": [
      {
       "ename": "NameError",
       "evalue": "name 'SOS' is not defined",
       "output_type": "pyerr",
       "traceback": [
        "\u001b[0;31m---------------------------------------------------------------------------\u001b[0m\n\u001b[0;31mNameError\u001b[0m                                 Traceback (most recent call last)",
        "\u001b[0;32m<ipython-input-72-0986ee611151>\u001b[0m in \u001b[0;36m<module>\u001b[0;34m()\u001b[0m\n\u001b[1;32m      3\u001b[0m \u001b[0;34m\u001b[0m\u001b[0m\n\u001b[1;32m      4\u001b[0m \u001b[0;34m\u001b[0m\u001b[0m\n\u001b[0;32m----> 5\u001b[0;31m \u001b[0mSOS\u001b[0m\u001b[0;34m(\u001b[0m\u001b[0;34m)\u001b[0m\u001b[0;34m\u001b[0m\u001b[0m\n\u001b[0m",
        "\u001b[0;31mNameError\u001b[0m: name 'SOS' is not defined"
       ]
      }
     ],
     "prompt_number": 72
    },
    {
     "cell_type": "code",
     "collapsed": false,
     "input": [
      "headlight_pin = 12\n",
      "if is_raining == True:\n",
      "    gpio.output(headlight_pin, True)\n",
      "else:\n",
      "    gpio.output(headlight_pin, False)"
     ],
     "language": "python",
     "metadata": {},
     "outputs": []
    },
    {
     "cell_type": "code",
     "collapsed": false,
     "input": [
      "#list for medical kit\n",
      "\n",
      "medical_supplies = [\"Water\", \"Panadol\", \"Purification tablets\", \"Bandages\"]\n",
      "\n",
      "#radio.say(\"Please bring the following medical supplies:\")\n",
      "for item in medical_supplies:\n",
      "    #radio.say(item)\n",
      "    pass\n",
      "medical_supplies[0]\n",
      "# zero index\n",
      "\n",
      "\n"
     ],
     "language": "python",
     "metadata": {},
     "outputs": []
    },
    {
     "cell_type": "code",
     "collapsed": false,
     "input": [
      "medical_supplies = {\"Panadol\":5, \"Bandages\":6}\n",
      "\n",
      "\n",
      "lat\n",
      "lon\n",
      "time\n",
      "\n"
     ],
     "language": "python",
     "metadata": {},
     "outputs": []
    },
    {
     "cell_type": "code",
     "collapsed": false,
     "input": [
      "== vs ="
     ],
     "language": "python",
     "metadata": {},
     "outputs": []
    },
    {
     "cell_type": "code",
     "collapsed": false,
     "input": [
      "if x == 0:\n",
      "    print \n",
      "    # <- indentation"
     ],
     "language": "python",
     "metadata": {},
     "outputs": []
    },
    {
     "cell_type": "code",
     "collapsed": false,
     "input": [
      "times = [1,.5,2,3,4]\n",
      "\n",
      "for time in times:\n",
      "    blink(12, time)\n"
     ],
     "language": "python",
     "metadata": {},
     "outputs": []
    },
    {
     "cell_type": "code",
     "collapsed": false,
     "input": [
      "group_members = [\"James\", \"Natalie\"]\n",
      "\n",
      "for member in group_members:\n",
      "    print \"Hello {}\".format(member)\n",
      "    \n",
      "    ### explain .format\n",
      "\n"
     ],
     "language": "python",
     "metadata": {},
     "outputs": []
    }
   ],
   "metadata": {}
  }
 ]
}