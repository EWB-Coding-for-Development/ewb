{
 "metadata": {
  "name": "",
  "signature": "sha256:bc9151611fcbfa576d1508286042cabea0c7a54cbb2e114aebd158248534668a"
 },
 "nbformat": 3,
 "nbformat_minor": 0,
 "worksheets": [
  {
   "cells": [
    {
     "cell_type": "heading",
     "level": 1,
     "metadata": {},
     "source": [
      "Python Basics"
     ]
    },
    {
     "cell_type": "heading",
     "level": 2,
     "metadata": {},
     "source": [
      "Running Code"
     ]
    },
    {
     "cell_type": "code",
     "collapsed": false,
     "input": [
      "# <-- This hash \"comments\" the rest of this line\n",
      "\n",
      "## To run this cell of code, select it, and press <Shift> <Enter>\n",
      "\n",
      "## Why don't you try the code to print \"Hello World\" in this cell?\n",
      "## The syntax for the `print` statement, where x is a String, is:\n",
      "\n",
      "# print(x)\n",
      "\n"
     ],
     "language": "python",
     "metadata": {},
     "outputs": [],
     "prompt_number": 16
    },
    {
     "cell_type": "code",
     "collapsed": false,
     "input": [
      "# You can run a cell over and over again by pressing <Control> <Enter>\n",
      "\n",
      "print(\"Insanity: doing the same thing over and over again and expecting different results.\")\n",
      "\n",
      "import random\n",
      "random.random()"
     ],
     "language": "python",
     "metadata": {},
     "outputs": [
      {
       "output_type": "stream",
       "stream": "stdout",
       "text": [
        "Insanity: doing the same thing over and over again and expecting different results.\n"
       ]
      },
      {
       "metadata": {},
       "output_type": "pyout",
       "prompt_number": 23,
       "text": [
        "0.8188677975741137"
       ]
      }
     ],
     "prompt_number": 23
    },
    {
     "cell_type": "heading",
     "level": 3,
     "metadata": {},
     "source": [
      "At any time, you can go back to a previous cell to change or run code"
     ]
    },
    {
     "cell_type": "code",
     "collapsed": false,
     "input": [],
     "language": "python",
     "metadata": {},
     "outputs": []
    }
   ],
   "metadata": {}
  }
 ]
}