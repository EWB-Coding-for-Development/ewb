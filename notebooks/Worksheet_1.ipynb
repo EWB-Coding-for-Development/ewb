{
 "metadata": {
  "name": "",
  "signature": "sha256:16fca42823da4cba7d45fb68619d62c92a83caa0ff38d1a062496427f208ba9c"
 },
 "nbformat": 3,
 "nbformat_minor": 0,
 "worksheets": [
  {
   "cells": [
    {
     "cell_type": "code",
     "collapsed": false,
     "input": [
      "Python Basics"
     ],
     "language": "python",
     "metadata": {},
     "outputs": []
    },
    {
     "cell_type": "heading",
     "level": 2,
     "metadata": {},
     "source": [
      "Running Code"
     ]
    },
    {
     "cell_type": "code",
     "collapsed": false,
     "input": [
      "# <-- This hash \"comments\" the rest of this line\n",
      "\n",
      "## To run this cell of code, select it, and press <Shift> <Enter>\n",
      "\n",
      "## Why don't you try the code to print \"Hello World\" in this cell?\n",
      "## The syntax for the `print` statement, where x is a String, is:\n",
      "\n",
      "# print(x)\n",
      "\n"
     ],
     "language": "python",
     "metadata": {},
     "outputs": []
    },
    {
     "cell_type": "code",
     "collapsed": false,
     "input": [
      "# You can run a cell over and over again by pressing <Control> <Enter>\n",
      "\n",
      "print(\"Insanity: doing the same thing over and over again and expecting different results.\")\n",
      "\n",
      "import random\n",
      "random.random()"
     ],
     "language": "python",
     "metadata": {},
     "outputs": [
      {
       "output_type": "stream",
       "stream": "stdout",
       "text": [
        "Insanity: doing the same thing over and over again and expecting different results.\n"
       ]
      },
      {
       "metadata": {},
       "output_type": "pyout",
       "prompt_number": 5,
       "text": [
        "0.877817272691007"
       ]
      }
     ],
     "prompt_number": 5
    },
    {
     "cell_type": "heading",
     "level": 3,
     "metadata": {},
     "source": [
      "At any time, you can go back to a previous cell to change or run code"
     ]
    },
    {
     "cell_type": "heading",
     "level": 2,
     "metadata": {},
     "source": [
      "Variables and if statements"
     ]
    },
    {
     "cell_type": "code",
     "collapsed": false,
     "input": [
      "is_raining = True\n",
      "\n",
      "if is_raining == True:\n",
      "     print(\"Take an umbrella\")"
     ],
     "language": "python",
     "metadata": {},
     "outputs": []
    },
    {
     "cell_type": "code",
     "collapsed": false,
     "input": [
      "# You must initialise variables before they can be used"
     ],
     "language": "python",
     "metadata": {},
     "outputs": []
    },
    {
     "cell_type": "heading",
     "level": 2,
     "metadata": {},
     "source": [
      "Can you fix this code?"
     ]
    },
    {
     "cell_type": "code",
     "collapsed": false,
     "input": [
      "if is_sunny = TRUE:\n",
      "Print(\"You had better wear your sunglasses!\")"
     ],
     "language": "python",
     "metadata": {},
     "outputs": [
      {
       "ename": "SyntaxError",
       "evalue": "invalid syntax (<ipython-input-9-33f1a85e2dcf>, line 1)",
       "output_type": "pyerr",
       "traceback": [
        "\u001b[0;36m  File \u001b[0;32m\"<ipython-input-9-33f1a85e2dcf>\"\u001b[0;36m, line \u001b[0;32m1\u001b[0m\n\u001b[0;31m    if is_sunny = TRUE:\u001b[0m\n\u001b[0m                ^\u001b[0m\n\u001b[0;31mSyntaxError\u001b[0m\u001b[0;31m:\u001b[0m invalid syntax\n"
       ]
      }
     ],
     "prompt_number": 9
    },
    {
     "cell_type": "heading",
     "level": 2,
     "metadata": {},
     "source": [
      "Let's blink an LED"
     ]
    },
    {
     "cell_type": "code",
     "collapsed": false,
     "input": [
      "import RPi.GPIO as gpio  # This brings in the Module RPi.GPIO, but calls it gpio for ease of use\n",
      "\n",
      "gpio.setmode(gpio.BOARD) # This sets the numbering scheme for the pins\n",
      "gpio.setup(12, gpio.OUT) # This sets pin 12 to be an OUTPUT\n",
      "\n",
      "# > Now call gpio.output(pin_number, value)\n",
      "# where value is be True for a \"HIGH\" voltage level, or False for a \"LOW\" voltage level\n",
      "\n"
     ],
     "language": "python",
     "metadata": {},
     "outputs": []
    },
    {
     "cell_type": "heading",
     "level": 3,
     "metadata": {},
     "source": [
      "Ok. Now to turn it off.."
     ]
    },
    {
     "cell_type": "code",
     "collapsed": false,
     "input": [
      "# led_pin = 12"
     ],
     "language": "python",
     "metadata": {},
     "outputs": []
    },
    {
     "cell_type": "heading",
     "level": 3,
     "metadata": {},
     "source": [
      "Now make it blink continuously"
     ]
    },
    {
     "cell_type": "code",
     "collapsed": false,
     "input": [
      "# you will need to import the `sleep` function from the `time` module\n",
      "# like this:\n",
      "#     from <module> import <function>\n",
      "\n",
      "# >\n",
      "\n",
      "\n",
      "# To access the documentation of a function in IPython, add a `?` symbol after the function name\n",
      "sleep?"
     ],
     "language": "python",
     "metadata": {},
     "outputs": [
      {
       "output_type": "stream",
       "stream": "stdout",
       "text": [
        "Object `sleep` not found.\n"
       ]
      }
     ],
     "prompt_number": 9
    },
    {
     "cell_type": "code",
     "collapsed": false,
     "input": [
      "# while (condition):\n",
      "#     #run the code here until condition is False\n",
      "\n",
      "# while True:\n",
      "#     #run the code here forever"
     ],
     "language": "python",
     "metadata": {},
     "outputs": []
    },
    {
     "cell_type": "markdown",
     "metadata": {},
     "source": [
      "#### A while loop can run forever! Here's how to stop it:\n",
      "\n",
      "In the Terminal, pressing &lt;Control&gt;&lt;c&gt; causes a _KeyboardInterrupt_.  \n",
      "In the **IPython Notebook** the _KeyboardInterrupt_ is sent by pressing the Stop Button. &nbsp;<i class=\"icon-stop\"></i>"
     ]
    },
    {
     "cell_type": "heading",
     "level": 3,
     "metadata": {},
     "source": [
      "For Loops"
     ]
    },
    {
     "cell_type": "code",
     "collapsed": false,
     "input": [
      "# iterate over a list with a `for` loop\n",
      "#\n",
      "# for <item> in <list>:\n",
      "#     pass\n",
      "\n",
      "# range(n) gives a list starting from 0 to n-1\n",
      "# for i in range:\n",
      "#      print i"
     ],
     "language": "python",
     "metadata": {},
     "outputs": []
    },
    {
     "cell_type": "heading",
     "level": 3,
     "metadata": {},
     "source": [
      "Write a function called \"blink_once\""
     ]
    },
    {
     "cell_type": "code",
     "collapsed": false,
     "input": [
      "# A `function` definition looks like:\n",
      "\n",
      "# def function_name(argument1, argument2):\n",
      "#     # code goes here\n",
      "\n",
      "# Arguments are input variables to the function\n",
      "# Arguments are optional, and you can have as many as you like\n",
      "\n",
      "# def blink_once(pin, duration):\n",
      "\n",
      "#"
     ],
     "language": "python",
     "metadata": {},
     "outputs": []
    },
    {
     "cell_type": "heading",
     "level": 3,
     "metadata": {},
     "source": [
      "Write a function that blinks a given number of times"
     ]
    },
    {
     "cell_type": "code",
     "collapsed": false,
     "input": [
      "# Write a function called `blink`\n",
      "# with the arguments pin, num_times, duration\n",
      "\n",
      "#"
     ],
     "language": "python",
     "metadata": {},
     "outputs": []
    },
    {
     "cell_type": "code",
     "collapsed": false,
     "input": [
      "blink(12, 50, .05)"
     ],
     "language": "python",
     "metadata": {},
     "outputs": []
    },
    {
     "cell_type": "heading",
     "level": 3,
     "metadata": {},
     "source": [
      "Coding Challenge: Can you write a function that blinks SOS in Morse Code? ... --- ..."
     ]
    },
    {
     "cell_type": "code",
     "collapsed": false,
     "input": [
      "# Write a function called SOS()\n",
      "# Try calling some of the functions that you defined above.\n",
      "\n",
      "\n",
      "SOS()"
     ],
     "language": "python",
     "metadata": {},
     "outputs": [
      {
       "ename": "NameError",
       "evalue": "name 'SOS' is not defined",
       "output_type": "pyerr",
       "traceback": [
        "\u001b[0;31m---------------------------------------------------------------------------\u001b[0m\n\u001b[0;31mNameError\u001b[0m                                 Traceback (most recent call last)",
        "\u001b[0;32m<ipython-input-72-0986ee611151>\u001b[0m in \u001b[0;36m<module>\u001b[0;34m()\u001b[0m\n\u001b[1;32m      3\u001b[0m \u001b[0;34m\u001b[0m\u001b[0m\n\u001b[1;32m      4\u001b[0m \u001b[0;34m\u001b[0m\u001b[0m\n\u001b[0;32m----> 5\u001b[0;31m \u001b[0mSOS\u001b[0m\u001b[0;34m(\u001b[0m\u001b[0;34m)\u001b[0m\u001b[0;34m\u001b[0m\u001b[0m\n\u001b[0m",
        "\u001b[0;31mNameError\u001b[0m: name 'SOS' is not defined"
       ]
      }
     ],
     "prompt_number": 72
    },
    {
     "cell_type": "heading",
     "level": 2,
     "metadata": {},
     "source": [
      "Sending a Distress Signal"
     ]
    },
    {
     "cell_type": "code",
     "collapsed": false,
     "input": [
      "# You will need to import the `ewb` module\n",
      "\n",
      "#>\n",
      "\n",
      "frequencies = [87.9, 88.1, 88.3, 88.5, 88.7, 88.9, 89.1, 89.3]\n",
      "group = 1\n",
      "\n",
      "#>\n",
      "\n",
      "# Find your broadcast frequency using the list index. Remember that list indexing starts with 0!\n",
      "\n",
      "#>\n",
      "\n",
      "# Initialise an ewb.Radio() object, passing frequency as the first parameter   \n",
      "\n",
      "#>\n"
     ],
     "language": "python",
     "metadata": {},
     "outputs": [],
     "prompt_number": 1
    },
    {
     "cell_type": "code",
     "collapsed": false,
     "input": [
      "# Now call the say() method of your radio object to broadcast your distress message\n",
      "\n",
      "#>"
     ],
     "language": "python",
     "metadata": {},
     "outputs": []
    },
    {
     "cell_type": "heading",
     "level": 2,
     "metadata": {},
     "source": [
      "Obtain GPS coordinates"
     ]
    },
    {
     "cell_type": "code",
     "collapsed": false,
     "input": [
      "# Initialise the GPS by creating an ewb.Gps() object\n",
      "\n",
      "#>"
     ],
     "language": "python",
     "metadata": {},
     "outputs": []
    },
    {
     "cell_type": "code",
     "collapsed": false,
     "input": [
      "# If your GPS unit has a Fix, find you latitude and longitude\n",
      "\n",
      "#>"
     ],
     "language": "python",
     "metadata": {},
     "outputs": []
    },
    {
     "cell_type": "code",
     "collapsed": false,
     "input": [
      "# Announce your location over the radio\n",
      "\n",
      "#>"
     ],
     "language": "python",
     "metadata": {},
     "outputs": []
    },
    {
     "cell_type": "heading",
     "level": 3,
     "metadata": {},
     "source": [
      "Request medical supplies"
     ]
    },
    {
     "cell_type": "code",
     "collapsed": false,
     "input": [
      "medical_supplies_required = {\"Water\": 500, \"Panadol\":1000, \"Purification tablets\": 10000, \"Bandages\": 400}\n",
      "\n",
      "# Broadcast a message requesting medical supplies to your location"
     ],
     "language": "python",
     "metadata": {},
     "outputs": []
    },
    {
     "cell_type": "heading",
     "level": 1,
     "metadata": {},
     "source": [
      "Part 3: Button inputs"
     ]
    },
    {
     "cell_type": "code",
     "collapsed": false,
     "input": [
      "# First you must set the pin as an input, with gpio.setup\n",
      "# Required arguments: button_pin, state, pud)\n",
      "# state should be gpio.IN, pud should be gpio.PUD_UP\n",
      "\n",
      "#>"
     ],
     "language": "python",
     "metadata": {},
     "outputs": []
    },
    {
     "cell_type": "code",
     "collapsed": false,
     "input": [
      "# Now read the state of a pin using gpio.input(pin)\n",
      "\n",
      "#>"
     ],
     "language": "python",
     "metadata": {},
     "outputs": []
    },
    {
     "cell_type": "code",
     "collapsed": false,
     "input": [
      "if gpio.input(button_pin):\n",
      "    print(\"Try again\")\n",
      "else:\n",
      "    print(\"Beep boop!\")"
     ],
     "language": "python",
     "metadata": {},
     "outputs": []
    },
    {
     "cell_type": "heading",
     "level": 3,
     "metadata": {},
     "source": [
      "Wait for input"
     ]
    },
    {
     "cell_type": "code",
     "collapsed": false,
     "input": [
      "# Use a `while` loop to pause execution until the button is pressed\n",
      "\n",
      "#>"
     ],
     "language": "python",
     "metadata": {},
     "outputs": []
    },
    {
     "cell_type": "code",
     "collapsed": false,
     "input": [
      "# Use a `while` loop to do something each time a button is pressed\n",
      "\n",
      "#>"
     ],
     "language": "python",
     "metadata": {},
     "outputs": []
    },
    {
     "cell_type": "heading",
     "level": 2,
     "metadata": {},
     "source": [
      "Breaking out of a `while` statement"
     ]
    },
    {
     "cell_type": "code",
     "collapsed": false,
     "input": [
      "last_state = 1\n",
      "count = 0\n",
      "while True:\n",
      "    state = gpio.input(button_pin)\n",
      "    if state != last_state:\n",
      "        if state == 0:\n",
      "            count += 1\n",
      "            print(\"Button Pushed {} times\".format(count))\n",
      "            if count == 5:\n",
      "                print(\"That's 5 times too many!\")\n",
      "                break     # This leaves the while statement\n",
      "        last_state = state"
     ],
     "language": "python",
     "metadata": {},
     "outputs": []
    },
    {
     "cell_type": "heading",
     "level": 1,
     "metadata": {},
     "source": [
      "Part 4: Advanced Blinking (Morse code)"
     ]
    },
    {
     "cell_type": "code",
     "collapsed": false,
     "input": [
      "morse_code = {'s': '...',\n",
      "              'o': '---',\n",
      "              'e': '.',\n",
      "              't': '-',\n",
      "             }"
     ],
     "language": "python",
     "metadata": {},
     "outputs": [],
     "prompt_number": 4
    },
    {
     "cell_type": "code",
     "collapsed": false,
     "input": [
      "def morse(text):\n",
      "    for char in text:\n",
      "        print(morse_code[char])\n",
      "        \n",
      "morse(\"toes\")"
     ],
     "language": "python",
     "metadata": {},
     "outputs": [
      {
       "output_type": "stream",
       "stream": "stdout",
       "text": [
        "-\n",
        "---\n",
        ".\n",
        "...\n"
       ]
      }
     ],
     "prompt_number": 5
    },
    {
     "cell_type": "code",
     "collapsed": false,
     "input": [
      "morse_code.get"
     ],
     "language": "python",
     "metadata": {},
     "outputs": [],
     "prompt_number": 10
    },
    {
     "cell_type": "code",
     "collapsed": false,
     "input": [
      "import time\n",
      "time.sleep?"
     ],
     "language": "python",
     "metadata": {},
     "outputs": [],
     "prompt_number": 8
    },
    {
     "cell_type": "code",
     "collapsed": false,
     "input": [],
     "language": "python",
     "metadata": {},
     "outputs": []
    }
   ],
   "metadata": {}
  }
 ]
}