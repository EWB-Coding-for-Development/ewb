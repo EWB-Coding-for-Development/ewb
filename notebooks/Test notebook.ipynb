{
 "metadata": {
  "name": "Test notebook"
 },
 "nbformat": 3,
 "nbformat_minor": 0,
 "worksheets": [
  {
   "cells": [
    {
     "cell_type": "markdown",
     "metadata": {},
     "source": [
      "# Module Demonstration\n",
      "\n",
      "This notebook demonstrates the `ewb` module\n",
      "\n",
      "Press &lt;Shift&gt; - &lt;Enter&gt; to run each block of code\n",
      "\n",
      "## Run This First:"
     ]
    },
    {
     "cell_type": "code",
     "collapsed": false,
     "input": [
      "# the following is needed to let Python know where to look for the ewb module\n",
      "import sys, os\n",
      "sys.path.insert(0, \"/home/pi/ewb/src/\")\n",
      "os.ENVIRON = \":\".join(sys.path)\n",
      "print(\"ok!\")"
     ],
     "language": "python",
     "metadata": {},
     "outputs": []
    },
    {
     "cell_type": "markdown",
     "metadata": {},
     "source": [
      "## FM Transmitter"
     ]
    },
    {
     "cell_type": "code",
     "collapsed": false,
     "input": [
      "from ewb.radio import get_radio\n",
      "\n",
      "# Tune your wireless!\n",
      "radio = get_radio(87.9)\n",
      "\n",
      "radio.say(\"Hello World. This is an IPython notebook\")"
     ],
     "language": "python",
     "metadata": {},
     "outputs": []
    },
    {
     "cell_type": "code",
     "collapsed": false,
     "input": [
      "sound_file = \"/home/pi/sound.wav\"\n",
      "radio.play(sound_file)"
     ],
     "language": "python",
     "metadata": {},
     "outputs": []
    },
    {
     "cell_type": "markdown",
     "metadata": {},
     "source": [
      "## GPS"
     ]
    },
    {
     "cell_type": "code",
     "collapsed": false,
     "input": [
      "from ewb.position import get_gps\n",
      "gpsp = get_gps()\n",
      "gpsp"
     ],
     "language": "python",
     "metadata": {},
     "outputs": []
    },
    {
     "cell_type": "code",
     "collapsed": false,
     "input": [
      "print(gpsp.get_current_value())"
     ],
     "language": "python",
     "metadata": {},
     "outputs": []
    },
    {
     "cell_type": "code",
     "collapsed": false,
     "input": [
      "my_position = \"Latitude {lat} Longitude {lon} Altitude {alt} Time {time}\".format(**gpsp.get_current_value())\n",
      "print(my_position)"
     ],
     "language": "python",
     "metadata": {},
     "outputs": []
    },
    {
     "cell_type": "code",
     "collapsed": false,
     "input": [
      "radio.say(my_position, speed=100)"
     ],
     "language": "python",
     "metadata": {},
     "outputs": []
    },
    {
     "cell_type": "markdown",
     "metadata": {},
     "source": [
      "#GPIO\n",
      "\n",
      "Connect an LED with a resistor between `led_pin` (12) and ground for the next item"
     ]
    },
    {
     "cell_type": "code",
     "collapsed": false,
     "input": [
      "from ewb.blink import *\n",
      "\n",
      "led_pin = 12\n",
      "\n",
      "blink(3,1,led_pin)"
     ],
     "language": "python",
     "metadata": {},
     "outputs": []
    },
    {
     "cell_type": "markdown",
     "metadata": {},
     "source": [
      "## RPi.GPIO\n",
      "\n",
      "The RPi.GPIO syntax is relatively simple. Let's try it out:"
     ]
    },
    {
     "cell_type": "code",
     "collapsed": false,
     "input": [
      "import RPi.GPIO as GPIO\n",
      "import time\n",
      "\n",
      "GPIO.setmode(GPIO.BOARD) # Choose the Pin numbering system\n",
      "\n",
      "led_pin = 12\n",
      "GPIO.setup(led_pin, GPIO.OUT) # set the LED pin as an output\n",
      "\n",
      "for i in range(5):\n",
      "    GPIO.output(led_pin, True)\n",
      "    time.sleep(.2)\n",
      "    GPIO.output(led_pin, False)\n",
      "    time.sleep(.2)\n",
      "\n",
      "print(\"Blinky!\")"
     ],
     "language": "python",
     "metadata": {},
     "outputs": []
    },
    {
     "cell_type": "markdown",
     "metadata": {},
     "source": [
      "Ok, now lets try connecting a pushbutton between `button_pin` (18) and ground"
     ]
    },
    {
     "cell_type": "code",
     "collapsed": false,
     "input": [
      "button_pin = 18\n",
      "\n",
      "GPIO.setup(button_pin, GPIO.IN, GPIO.PUD_UP) # Set the pin as an Input, with an internal `pull-up resistor`\n",
      "\n",
      "GPIO.output(led_pin, True) # Turn on LED\n",
      "\n",
      "while(GPIO.input(button_pin)):\n",
      "    # While the button is not being pressed, the open circuit is \"Pulled up\", and will read True\n",
      "    # When the button is pushed, this `while` loop will exit\n",
      "    pass # in the meantime, do nothing\n",
      "\n",
      "# ok, GPIO.input became False, so the button has been pressed\n",
      "GPIO.output(led_pin, False) # Turn LED off\n",
      "print(\"Button pushed\")"
     ],
     "language": "python",
     "metadata": {},
     "outputs": []
    }
   ],
   "metadata": {}
  }
 ]
}